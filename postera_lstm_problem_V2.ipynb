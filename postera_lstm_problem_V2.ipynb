{
  "cells": [
    {
      "cell_type": "markdown",
      "metadata": {
        "id": "view-in-github",
        "colab_type": "text"
      },
      "source": [
        "<a href=\"https://colab.research.google.com/github/samirapakravan/ML_Challenge/blob/main/postera_lstm_problem_V2.ipynb\" target=\"_parent\"><img src=\"https://colab.research.google.com/assets/colab-badge.svg\" alt=\"Open In Colab\"/></a>"
      ]
    },
    {
      "cell_type": "code",
      "execution_count": 1,
      "metadata": {
        "colab": {
          "base_uri": "https://localhost:8080/"
        },
        "id": "8dhxxFwJTw3M",
        "outputId": "2c34b0ca-5834-4120-d4ed-35561c7b8025"
      },
      "outputs": [
        {
          "output_type": "stream",
          "name": "stdout",
          "text": [
            "Looking in indexes: https://pypi.org/simple, https://us-python.pkg.dev/colab-wheels/public/simple/\n",
            "Collecting rdkit\n",
            "  Downloading rdkit-2022.9.4-cp38-cp38-manylinux_2_17_x86_64.manylinux2014_x86_64.whl (29.3 MB)\n",
            "\u001b[2K     \u001b[90m━━━━━━━━━━━━━━━━━━━━━━━━━━━━━━━━━━━━━━━━\u001b[0m \u001b[32m29.3/29.3 MB\u001b[0m \u001b[31m19.0 MB/s\u001b[0m eta \u001b[36m0:00:00\u001b[0m\n",
            "\u001b[?25hRequirement already satisfied: Pillow in /usr/local/lib/python3.8/dist-packages (from rdkit) (7.1.2)\n",
            "Requirement already satisfied: numpy in /usr/local/lib/python3.8/dist-packages (from rdkit) (1.21.6)\n",
            "Installing collected packages: rdkit\n",
            "Successfully installed rdkit-2022.9.4\n"
          ]
        }
      ],
      "source": [
        "pip install rdkit"
      ]
    },
    {
      "cell_type": "code",
      "execution_count": 2,
      "metadata": {
        "id": "PLXuP4qqTxWt"
      },
      "outputs": [],
      "source": [
        "from rdkit import Chem\n",
        "from rdkit.Chem import Descriptors\n",
        "from rdkit.Chem import AllChem\n",
        "from rdkit.Chem.Draw import IPythonConsole \n",
        "\n",
        "import numpy as np\n",
        "from sklearn.model_selection import train_test_split\n",
        "\n",
        "import torch\n",
        "import torch.nn as nn\n",
        "import torch.nn.functional as F\n",
        "\n",
        "import numpy as np\n",
        "import matplotlib.pyplot as plt\n",
        "import pandas as pd\n",
        "from torch.utils.data import TensorDataset, DataLoader\n",
        "from torch.optim.lr_scheduler import StepLR\n",
        "from torch.optim.lr_scheduler import ReduceLROnPlateau\n",
        "from tqdm.notebook import trange\n",
        "\n",
        "# CUDA for PyTorch\n",
        "use_cuda = torch.cuda.is_available()\n",
        "device = torch.device(\"cuda:0\" if torch.cuda.is_available() else \"cpu\")\n",
        "torch.backends.cudnn.benchmark = True"
      ]
    },
    {
      "cell_type": "markdown",
      "metadata": {
        "id": "mo6mQ_6mlae8"
      },
      "source": [
        "\n",
        "#**Medium Problem**"
      ]
    },
    {
      "cell_type": "markdown",
      "metadata": {
        "id": "8U6CAUUk6qnx"
      },
      "source": [
        "Reading file contents and filtering the SMILES to those with at most 50 characters:"
      ]
    },
    {
      "cell_type": "code",
      "execution_count": 3,
      "metadata": {
        "id": "gTP85ecklboc"
      },
      "outputs": [],
      "source": [
        "zinc_df = pd.read_csv('SMILES_Keyboard.csv')\n",
        "zinc_df = zinc_df.loc[zinc_df['SMILES'].str.len()<50][['SMILES', 'NAME']].reset_index(drop=True)"
      ]
    },
    {
      "cell_type": "code",
      "execution_count": 4,
      "metadata": {
        "colab": {
          "base_uri": "https://localhost:8080/"
        },
        "id": "3nlCMvfJ9M6S",
        "outputId": "883e31a8-d48e-497b-c3bb-380c8ec1db57"
      },
      "outputs": [
        {
          "output_type": "stream",
          "name": "stdout",
          "text": [
            "<class 'pandas.core.frame.DataFrame'>\n",
            "RangeIndex: 11808 entries, 0 to 11807\n",
            "Data columns (total 2 columns):\n",
            " #   Column  Non-Null Count  Dtype \n",
            "---  ------  --------------  ----- \n",
            " 0   SMILES  11808 non-null  object\n",
            " 1   NAME    11808 non-null  object\n",
            "dtypes: object(2)\n",
            "memory usage: 184.6+ KB\n"
          ]
        }
      ],
      "source": [
        "zinc_df.info()"
      ]
    },
    {
      "cell_type": "markdown",
      "metadata": {
        "id": "fDeZqHv1Zffc"
      },
      "source": [
        "##**Method 1:** Natural Language Processing technique; i.e., neighborhood in latent space.\n",
        "\n"
      ]
    },
    {
      "cell_type": "markdown",
      "metadata": {
        "id": "-37rRGw_73k5"
      },
      "source": [
        "###**Tokenization and Encoding** \n",
        "\n",
        "Tokenizer function to separate SMILES strings into separate tokens:"
      ]
    },
    {
      "cell_type": "code",
      "execution_count": 5,
      "metadata": {
        "id": "EHpnI0iEU4vG"
      },
      "outputs": [],
      "source": [
        "def smi_tokenizer(smi):\n",
        "    \"\"\"\n",
        "    Tokenize a SMILES molecule or reaction\n",
        "    \"\"\"\n",
        "    import re\n",
        "    pattern =  \"(\\[[^\\]]+]|Br?|Cl?|N|O|S|P|F|I|b|c|n|o|s|p|\\(|\\)|\\.|=|#|-|\\+|\\\\\\\\|\\/|:|~|@|\\?|>|\\*|\\$|\\%[0-9]{2}|[0-9])\"\n",
        "    regex = re.compile(pattern)\n",
        "    tokens = [token for token in regex.findall(smi)]\n",
        "    assert smi == ''.join(tokens)\n",
        "    return ' '.join(tokens)"
      ]
    },
    {
      "cell_type": "code",
      "execution_count": 6,
      "metadata": {
        "colab": {
          "base_uri": "https://localhost:8080/",
          "height": 36
        },
        "id": "jGTGVZgfU56u",
        "outputId": "09d544c8-f4a8-4375-9f5f-6311c2e5de70"
      },
      "outputs": [
        {
          "output_type": "execute_result",
          "data": {
            "text/plain": [
              "'C c 1 c c ( - n 2 n c c ( = O ) [nH] c 2 = O ) c c c 1 C ( = O ) c 1 c c c ( C # N ) c c 1'"
            ],
            "application/vnd.google.colaboratory.intrinsic+json": {
              "type": "string"
            }
          },
          "metadata": {},
          "execution_count": 6
        }
      ],
      "source": [
        "smi_tokenizer(zinc_df['SMILES'][1])"
      ]
    },
    {
      "cell_type": "markdown",
      "metadata": {
        "id": "m8KiWzmYe6ZN"
      },
      "source": [
        "Finding all the unique tokens and encoding the entire dataset using 2 dictionaries that convert token to integer and integer to token"
      ]
    },
    {
      "cell_type": "code",
      "execution_count": 7,
      "metadata": {
        "id": "6YQ84f6HFb5C"
      },
      "outputs": [],
      "source": [
        "# Method 1 token based\n",
        "\n",
        "tokenized_data = \"\"\n",
        "for i, row in zinc_df.iterrows():\n",
        "  t = smi_tokenizer(row['SMILES'])\n",
        "  tokenized_data += t\n",
        "\n",
        "tokenSet = set()\n",
        "txt = []\n",
        "for token in tokenized_data.split(\" \"):\n",
        "  txt.append(token)\n",
        "  tokenSet.add(token)\n",
        "\n",
        "int2token = dict(enumerate(tokenSet))\n",
        "token2int = {t: id for id, t in int2token.items()}\n",
        "encoded = np.array([token2int[t] for t in txt])"
      ]
    },
    {
      "cell_type": "code",
      "execution_count": 8,
      "metadata": {
        "id": "xzUtuV8U7r7R"
      },
      "outputs": [],
      "source": [
        "# Method 2 char based\n",
        "\n",
        "#tokenSet = set(\"\".join(list(zinc_df.SMILES))+\"!E\")\n",
        "#txt = \"\".join(list(zinc_df.SMILES))+\"!E\"\n",
        "\n",
        "tokenSet = set(\"\".join(list(zinc_df.SMILES)))\n",
        "txt = \"\".join(list(zinc_df.SMILES))\n",
        "\n",
        "int2token = dict(enumerate(tokenSet))\n",
        "token2int = {t: id for id, t in int2token.items()}\n",
        "encoded = np.array([token2int[t] for t in txt])"
      ]
    },
    {
      "cell_type": "markdown",
      "metadata": {
        "id": "EfAeRaCjlEe1"
      },
      "source": [
        "Creating one hot encoding: creating column vector based on the integer values of tokens"
      ]
    },
    {
      "cell_type": "code",
      "execution_count": 9,
      "metadata": {
        "id": "y72KFkXoz3-B"
      },
      "outputs": [],
      "source": [
        "def one_hot_encode(encoded, n_uni_tokens):\n",
        "    one_hot = np.zeros((encoded.size, n_uni_tokens), dtype=np.float32)  # starting with zeros\n",
        "    one_hot[np.arange(one_hot.shape[0]), encoded.flatten()] = 1.0       # wherever index position meets set it 1\n",
        "    one_hot = one_hot.reshape((*encoded.shape, n_uni_tokens))           # reshape to get the original batch shape   \n",
        "    return one_hot"
      ]
    },
    {
      "cell_type": "markdown",
      "metadata": {
        "id": "Gv15ISCQ2bzg"
      },
      "source": [
        "###**Generating Training Batches** "
      ]
    },
    {
      "cell_type": "markdown",
      "metadata": {
        "id": "mBpnwnSp2w8J"
      },
      "source": [
        "Each training sample is a sequence of tokens along with a label which is the same sequence shifted by 1 time step"
      ]
    },
    {
      "cell_type": "code",
      "execution_count": 10,
      "metadata": {
        "id": "-aAGIf3qI80g"
      },
      "outputs": [],
      "source": [
        "def generate_batches(encoded, batch_size, seq_len):\n",
        "    token_per_batch = batch_size * seq_len            # total number of tokens per batch\n",
        "    n_batches = len(encoded)//token_per_batch         # total number of batches we can make out of all data\n",
        "    \n",
        "    encoded = encoded[:n_batches * token_per_batch]   # cut of the end of encoded\n",
        "    encoded = encoded.reshape((batch_size, -1))       # reshape encoded data into rows of size batch\n",
        "    \n",
        "    for n in range(0, encoded.shape[1], seq_len):     # encoded is reshaped now so we go along dimension 1\n",
        "        x = encoded[:, n:n+seq_len]\n",
        "        y = np.zeros_like(x)                          # creating array of zeros with same shape as x\n",
        "        \n",
        "        try:\n",
        "            y[:,:-1] = x[:,1:]\n",
        "            y[:,-1] = encoded[:,n+seq_len]       \n",
        "        except:                             # at the end there is a possibility to go out of range\n",
        "            y[:,:-1] = x[:,1:]\n",
        "            y[:,-1] = encoded[:,0]\n",
        "        yield x, y"
      ]
    },
    {
      "cell_type": "markdown",
      "metadata": {
        "id": "6BFHuPaD-Fr_"
      },
      "source": [
        "###**Creating NN Model** "
      ]
    },
    {
      "cell_type": "code",
      "execution_count": 11,
      "metadata": {
        "id": "QZUg3rzk-5w6"
      },
      "outputs": [],
      "source": [
        "class Model(nn.Module):\n",
        "    \n",
        "    def __init__(self, tokens, n_hidden=10, n_layers=2):\n",
        "        super().__init__()\n",
        "\n",
        "        self.n_layers = n_layers\n",
        "        self.n_hidden = n_hidden\n",
        "\n",
        "        # our built-in dictionaries\n",
        "        self.tokens = tokens\n",
        "        self.int2token = dict(enumerate(self.tokens))\n",
        "        self.token2int = {t: id for id, t in int2token.items()}\n",
        "        \n",
        "        self.lstm = nn.LSTM(len(self.tokens), n_hidden, n_layers, dropout=0.2, batch_first=True)   # batch_first=True --> (batch, seq, feature)\n",
        "        self.dropout = nn.Dropout(0.2)                                                             # Dropout layer to avoid overfitting\n",
        "        self.fc = nn.Linear(n_hidden, len(self.tokens)) \n",
        "\n",
        "    def forward(self, x, hidden):\n",
        "        lstm_out, hidden = self.lstm(x, hidden)      \n",
        "        out = self.dropout(lstm_out)  \n",
        "        out = out.contiguous().view(-1, self.n_hidden)       # Correct the view so we can pass it to the fc layer    \n",
        "        out = self.fc(out)   \n",
        "        return out, hidden   \n",
        "\n",
        "    def hidden_state(self, batch_size):\n",
        "        hidden = (torch.zeros(self.n_layers, batch_size, self.n_hidden).to(device), torch.zeros(self.n_layers, batch_size, self.n_hidden).to(device))        \n",
        "        return hidden"
      ]
    },
    {
      "cell_type": "code",
      "execution_count": 12,
      "metadata": {
        "colab": {
          "base_uri": "https://localhost:8080/"
        },
        "id": "ewD9UFMI-5zM",
        "outputId": "10e94f38-62c0-42d9-ebcc-ba037f4ac837"
      },
      "outputs": [
        {
          "output_type": "stream",
          "name": "stdout",
          "text": [
            "Model(\n",
            "  (lstm): LSTM(37, 50, num_layers=5, batch_first=True, dropout=0.2)\n",
            "  (dropout): Dropout(p=0.2, inplace=False)\n",
            "  (fc): Linear(in_features=50, out_features=37, bias=True)\n",
            ")\n"
          ]
        }
      ],
      "source": [
        "n_hidden=50\n",
        "n_layers=5\n",
        "model = Model(tokenSet, n_hidden, n_layers).to(device)\n",
        "print(model)"
      ]
    },
    {
      "cell_type": "code",
      "execution_count": 13,
      "metadata": {
        "id": "-ZgQshvM-51W"
      },
      "outputs": [],
      "source": [
        "indx = int(len(encoded)*(1-0.1))\n",
        "train, test = encoded[:indx], encoded[indx:]"
      ]
    },
    {
      "cell_type": "code",
      "execution_count": 14,
      "metadata": {
        "id": "MeQXcBdy-53h"
      },
      "outputs": [],
      "source": [
        "lr = 0.001\n",
        "optimizer = torch.optim.Adam(model.parameters(), lr=lr)\n",
        "loss_fn = nn.CrossEntropyLoss()"
      ]
    },
    {
      "cell_type": "code",
      "execution_count": 15,
      "metadata": {
        "id": "qj3N-rsh-55p"
      },
      "outputs": [],
      "source": [
        "epochs = 50\n",
        "b = 0\n",
        "batch_size = 32\n",
        "seq_length = 40\n",
        "n_uni_tokens = len(model.tokens)"
      ]
    },
    {
      "cell_type": "code",
      "execution_count": 16,
      "metadata": {
        "colab": {
          "base_uri": "https://localhost:8080/"
        },
        "id": "Nf9CSRVN-58t",
        "outputId": "255e59b8-2abe-4250-9231-08fe3933dfa2"
      },
      "outputs": [
        {
          "output_type": "stream",
          "name": "stdout",
          "text": [
            "Epoch:0   Loss:2.4478812217712402    Val_Loss: 2.4367823528520987\n",
            "Epoch:0   Loss:2.397529125213623    Val_Loss: 2.4335754423430473\n",
            "Epoch:1   Loss:2.4727389812469482    Val_Loss: 2.433168823068792\n",
            "Epoch:1   Loss:2.3781213760375977    Val_Loss: 2.433563644235784\n",
            "Epoch:1   Loss:2.3731837272644043    Val_Loss: 2.432621796925863\n",
            "Epoch:2   Loss:2.419724941253662    Val_Loss: 2.4332144260406494\n",
            "Epoch:2   Loss:2.38234281539917    Val_Loss: 2.4320300058885054\n",
            "Epoch:2   Loss:2.3845646381378174    Val_Loss: 2.432343345699888\n",
            "Epoch:3   Loss:2.413770914077759    Val_Loss: 2.432167371114095\n",
            "Epoch:3   Loss:2.3881001472473145    Val_Loss: 2.4314578663219106\n",
            "Epoch:3   Loss:2.395935297012329    Val_Loss: 2.431012168075099\n",
            "Epoch:4   Loss:2.066490650177002    Val_Loss: 2.122770916331898\n",
            "Epoch:4   Loss:1.9927459955215454    Val_Loss: 2.0292302695187656\n",
            "Epoch:4   Loss:1.909767746925354    Val_Loss: 1.9095187295566907\n",
            "Epoch:5   Loss:1.8683990240097046    Val_Loss: 1.8307336099220044\n",
            "Epoch:5   Loss:1.8253246545791626    Val_Loss: 1.768250129439614\n",
            "Epoch:5   Loss:1.7554601430892944    Val_Loss: 1.7071912216417717\n",
            "Epoch:6   Loss:1.665838599205017    Val_Loss: 1.6671366799961438\n",
            "Epoch:6   Loss:1.6894538402557373    Val_Loss: 1.611424901268699\n",
            "Epoch:6   Loss:1.5791950225830078    Val_Loss: 1.5737038200551814\n",
            "Epoch:7   Loss:1.5907959938049316    Val_Loss: 1.5554153232863455\n",
            "Epoch:7   Loss:1.6300824880599976    Val_Loss: 1.5269431959499011\n",
            "Epoch:7   Loss:1.5770856142044067    Val_Loss: 1.5049495913765647\n",
            "Epoch:8   Loss:1.5720138549804688    Val_Loss: 1.4854579441475146\n",
            "Epoch:8   Loss:1.5569610595703125    Val_Loss: 1.4724476445804944\n",
            "Epoch:8   Loss:1.554785966873169    Val_Loss: 1.4663172671289155\n",
            "Epoch:9   Loss:1.5133987665176392    Val_Loss: 1.4491464513720889\n",
            "Epoch:9   Loss:1.4305986166000366    Val_Loss: 1.4426292542255286\n",
            "Epoch:9   Loss:1.4684257507324219    Val_Loss: 1.4300569079139016\n",
            "Epoch:10   Loss:1.4188390970230103    Val_Loss: 1.4157339731852214\n",
            "Epoch:10   Loss:1.4419710636138916    Val_Loss: 1.40946199315967\n",
            "Epoch:10   Loss:1.384721040725708    Val_Loss: 1.397580255161632\n",
            "Epoch:11   Loss:1.41654634475708    Val_Loss: 1.3883007837064338\n",
            "Epoch:11   Loss:1.3904333114624023    Val_Loss: 1.3820509043606846\n",
            "Epoch:11   Loss:1.4586275815963745    Val_Loss: 1.3728780421343716\n",
            "Epoch:12   Loss:1.375343680381775    Val_Loss: 1.3639384363636826\n",
            "Epoch:12   Loss:1.3742454051971436    Val_Loss: 1.3669002670230288\n",
            "Epoch:12   Loss:1.397073745727539    Val_Loss: 1.352802251324509\n",
            "Epoch:13   Loss:1.3934072256088257    Val_Loss: 1.3453066999262029\n",
            "Epoch:13   Loss:1.4325308799743652    Val_Loss: 1.3402593027461658\n",
            "Epoch:13   Loss:1.3681142330169678    Val_Loss: 1.3335928049954502\n",
            "Epoch:14   Loss:1.391532301902771    Val_Loss: 1.325712460460085\n",
            "Epoch:14   Loss:1.3938188552856445    Val_Loss: 1.3243522933035186\n",
            "Epoch:14   Loss:1.3976542949676514    Val_Loss: 1.320815061077927\n",
            "Epoch:15   Loss:1.3122408390045166    Val_Loss: 1.3083531459172566\n",
            "Epoch:15   Loss:1.3766437768936157    Val_Loss: 1.3059051217454853\n",
            "Epoch:15   Loss:1.3821752071380615    Val_Loss: 1.3007517511194402\n",
            "Epoch:16   Loss:1.3749456405639648    Val_Loss: 1.303342985384392\n",
            "Epoch:16   Loss:1.3398717641830444    Val_Loss: 1.2890544443419485\n",
            "Epoch:16   Loss:1.371803879737854    Val_Loss: 1.286931366631479\n",
            "Epoch:17   Loss:1.3139231204986572    Val_Loss: 1.2808006207148235\n",
            "Epoch:17   Loss:1.2993075847625732    Val_Loss: 1.2796008948123816\n",
            "Epoch:17   Loss:1.3224818706512451    Val_Loss: 1.2747445034258293\n",
            "Epoch:18   Loss:1.3377876281738281    Val_Loss: 1.2621594342318447\n",
            "Epoch:18   Loss:1.308790922164917    Val_Loss: 1.2631520357998935\n",
            "Epoch:18   Loss:1.282043695449829    Val_Loss: 1.2571104837186409\n",
            "Epoch:19   Loss:1.287675380706787    Val_Loss: 1.2491646029732444\n",
            "Epoch:19   Loss:1.2612504959106445    Val_Loss: 1.2494058825752952\n",
            "Epoch:19   Loss:1.3208832740783691    Val_Loss: 1.246808749256712\n",
            "Epoch:20   Loss:1.321563720703125    Val_Loss: 1.2357449820547393\n",
            "Epoch:20   Loss:1.3177303075790405    Val_Loss: 1.2343095649372449\n",
            "Epoch:20   Loss:1.3225202560424805    Val_Loss: 1.2335013187292851\n",
            "Epoch:21   Loss:1.2139697074890137    Val_Loss: 1.2270549680247451\n",
            "Epoch:21   Loss:1.2930030822753906    Val_Loss: 1.2210990912986524\n",
            "Epoch:21   Loss:1.2349921464920044    Val_Loss: 1.2222727139790852\n",
            "Epoch:22   Loss:1.2727819681167603    Val_Loss: 1.2204428333224673\n",
            "Epoch:22   Loss:1.251737117767334    Val_Loss: 1.2120209354342837\n",
            "Epoch:22   Loss:1.1756250858306885    Val_Loss: 1.217354416847229\n",
            "Epoch:23   Loss:1.1615020036697388    Val_Loss: 1.210577509619973\n",
            "Epoch:23   Loss:1.1260591745376587    Val_Loss: 1.2007903438625913\n",
            "Epoch:23   Loss:1.2569440603256226    Val_Loss: 1.2016532276615952\n",
            "Epoch:24   Loss:1.1790010929107666    Val_Loss: 1.198254476894032\n",
            "Epoch:24   Loss:1.259543776512146    Val_Loss: 1.1913010568329783\n",
            "Epoch:24   Loss:1.1956613063812256    Val_Loss: 1.1909490570877537\n",
            "Epoch:25   Loss:1.225383996963501    Val_Loss: 1.1900091315760757\n",
            "Epoch:25   Loss:1.224839448928833    Val_Loss: 1.1833527557777637\n",
            "Epoch:25   Loss:1.246315360069275    Val_Loss: 1.1807034413019817\n",
            "Epoch:26   Loss:1.1159368753433228    Val_Loss: 1.1863908298087842\n",
            "Epoch:26   Loss:1.2507624626159668    Val_Loss: 1.1764589367490825\n",
            "Epoch:26   Loss:1.2100756168365479    Val_Loss: 1.1741059910167346\n",
            "Epoch:27   Loss:1.2295200824737549    Val_Loss: 1.180896672335538\n",
            "Epoch:27   Loss:1.1483367681503296    Val_Loss: 1.1684238693930886\n",
            "Epoch:27   Loss:1.1281635761260986    Val_Loss: 1.1669793634703665\n",
            "Epoch:28   Loss:1.2491518259048462    Val_Loss: 1.1695147716637813\n",
            "Epoch:28   Loss:1.1422770023345947    Val_Loss: 1.1689867395343203\n",
            "Epoch:28   Loss:1.1616076231002808    Val_Loss: 1.1636759981964573\n",
            "Epoch:29   Loss:1.1399993896484375    Val_Loss: 1.1654675982215188\n",
            "Epoch:29   Loss:1.1799471378326416    Val_Loss: 1.1512071869590066\n",
            "Epoch:29   Loss:1.1835120916366577    Val_Loss: 1.1488630229776555\n",
            "Epoch:30   Loss:1.1695852279663086    Val_Loss: 1.152283950285478\n",
            "Epoch:30   Loss:1.1846301555633545    Val_Loss: 1.1481275522347651\n",
            "Epoch:30   Loss:1.1656341552734375    Val_Loss: 1.1436985911745015\n",
            "Epoch:31   Loss:1.1814380884170532    Val_Loss: 1.1468719171755242\n",
            "Epoch:31   Loss:1.1826202869415283    Val_Loss: 1.1351815353740344\n",
            "Epoch:31   Loss:1.1461697816848755    Val_Loss: 1.1366309758388635\n",
            "Epoch:32   Loss:1.2029037475585938    Val_Loss: 1.1425342306946262\n",
            "Epoch:32   Loss:1.2175017595291138    Val_Loss: 1.135463985529813\n",
            "Epoch:32   Loss:1.1503111124038696    Val_Loss: 1.131368510650866\n",
            "Epoch:33   Loss:1.1082955598831177    Val_Loss: 1.134251142993118\n",
            "Epoch:33   Loss:1.1990070343017578    Val_Loss: 1.1332601308822632\n",
            "Epoch:34   Loss:1.1623079776763916    Val_Loss: 1.124818220283046\n",
            "Epoch:34   Loss:1.1502162218093872    Val_Loss: 1.1250599658850469\n",
            "Epoch:34   Loss:1.1908470392227173    Val_Loss: 1.1239967454563489\n",
            "Epoch:35   Loss:1.0370800495147705    Val_Loss: 1.117277412703543\n",
            "Epoch:35   Loss:1.1568022966384888    Val_Loss: 1.1184394431836677\n",
            "Epoch:35   Loss:1.133652925491333    Val_Loss: 1.1115469426819773\n",
            "Epoch:36   Loss:1.0962756872177124    Val_Loss: 1.113872022339792\n",
            "Epoch:36   Loss:1.1192667484283447    Val_Loss: 1.1197236198367495\n",
            "Epoch:36   Loss:1.098792314529419    Val_Loss: 1.117287440733476\n",
            "Epoch:37   Loss:1.075732707977295    Val_Loss: 1.1155074076219038\n",
            "Epoch:37   Loss:1.178707480430603    Val_Loss: 1.1225214329632847\n",
            "Epoch:37   Loss:1.1608102321624756    Val_Loss: 1.111224595344428\n",
            "Epoch:38   Loss:1.150028944015503    Val_Loss: 1.110920129400311\n",
            "Epoch:38   Loss:1.1663343906402588    Val_Loss: 1.1121529431054087\n",
            "Epoch:38   Loss:1.0933843851089478    Val_Loss: 1.1084286985975322\n",
            "Epoch:39   Loss:1.0480339527130127    Val_Loss: 1.1017359386790881\n",
            "Epoch:39   Loss:1.0767395496368408    Val_Loss: 1.1034384911710566\n",
            "Epoch:39   Loss:1.1086097955703735    Val_Loss: 1.1033324545080012\n",
            "Epoch:40   Loss:1.1005908250808716    Val_Loss: 1.1023282661582485\n",
            "Epoch:40   Loss:1.116679310798645    Val_Loss: 1.0993998538364063\n",
            "Epoch:40   Loss:1.1143015623092651    Val_Loss: 1.0940838853518169\n",
            "Epoch:41   Loss:1.0465247631072998    Val_Loss: 1.096439697525718\n",
            "Epoch:41   Loss:1.106850504875183    Val_Loss: 1.0913913105473374\n",
            "Epoch:41   Loss:1.1101346015930176    Val_Loss: 1.0869437510317022\n",
            "Epoch:42   Loss:1.1319453716278076    Val_Loss: 1.0896308096972378\n",
            "Epoch:42   Loss:1.0764477252960205    Val_Loss: 1.0934146624622922\n",
            "Epoch:42   Loss:1.1156558990478516    Val_Loss: 1.0883412325020991\n",
            "Epoch:43   Loss:1.123680830001831    Val_Loss: 1.0819405804980884\n",
            "Epoch:43   Loss:1.0796513557434082    Val_Loss: 1.0827225320266955\n",
            "Epoch:43   Loss:1.0819518566131592    Val_Loss: 1.0788446141011787\n",
            "Epoch:44   Loss:1.052112340927124    Val_Loss: 1.0804312752954888\n",
            "Epoch:44   Loss:1.0543402433395386    Val_Loss: 1.0803984367486201\n",
            "Epoch:44   Loss:1.0859259366989136    Val_Loss: 1.1018740336100261\n",
            "Epoch:45   Loss:1.062699794769287    Val_Loss: 1.0773638089497883\n",
            "Epoch:45   Loss:1.075348138809204    Val_Loss: 1.0809574976111904\n",
            "Epoch:45   Loss:1.0387556552886963    Val_Loss: 1.0792086846900708\n",
            "Epoch:46   Loss:1.0968056917190552    Val_Loss: 1.078494420557311\n",
            "Epoch:46   Loss:1.0415802001953125    Val_Loss: 1.081660422411832\n",
            "Epoch:46   Loss:1.0778882503509521    Val_Loss: 1.073304938547539\n",
            "Epoch:47   Loss:1.0188124179840088    Val_Loss: 1.0749411528760737\n",
            "Epoch:47   Loss:1.0996196269989014    Val_Loss: 1.0719504157702129\n",
            "Epoch:47   Loss:1.0240836143493652    Val_Loss: 1.0681560491070603\n",
            "Epoch:48   Loss:1.026750087738037    Val_Loss: 1.073982388684244\n",
            "Epoch:48   Loss:1.066455602645874    Val_Loss: 1.068391016035369\n",
            "Epoch:48   Loss:1.1607698202133179    Val_Loss: 1.0654359965613394\n",
            "Epoch:49   Loss:1.0857927799224854    Val_Loss: 1.0703898054180723\n",
            "Epoch:49   Loss:1.0751036405563354    Val_Loss: 1.0608520977424853\n",
            "Epoch:49   Loss:1.0846667289733887    Val_Loss: 1.0649585109768491\n"
          ]
        }
      ],
      "source": [
        "model.train()\n",
        "\n",
        "for i in range(epochs):\n",
        "    h = model.hidden_state(batch_size)\n",
        "    \n",
        "    for x, y in generate_batches(train, batch_size, seq_length):    # Creating input and target batches\n",
        "        b += 1\n",
        "\n",
        "        x = one_hot_encode(x, n_uni_tokens)                         # Creating one_hot_encoding of input\n",
        "        inputs, targets = torch.from_numpy(x), torch.from_numpy(y)  # Creating a Tensor from a numpy.ndarray\n",
        "        inputs, targets = inputs.to(device), targets.to(device)     # Using available device\n",
        "\n",
        "        h = tuple([each.data for each in h]) # Resetting the hidden state, if we don't reset it, it will backprop into all training\n",
        "\n",
        "        optimizer.zero_grad()\n",
        "        \n",
        "        output, h = model(inputs, h)     \n",
        "        loss = loss_fn(output, targets.view(batch_size*seq_length).long())  # Calculating the loss with correct shape of target\n",
        "        loss.backward()                                                     # Performs backpropagation\n",
        "        optimizer.step()     # Updates the value of parameters according to the optimization strategy\n",
        "        \n",
        "        if b % 100 == 0:\n",
        "            val_h = model.hidden_state(batch_size)\n",
        "            val_losses = []\n",
        "            model.eval()      # Changing to evaluation mode and doing the same process on test data\n",
        "\n",
        "            for x, y in generate_batches(test, batch_size, seq_length):\n",
        "                x = one_hot_encode(x, n_uni_tokens)\n",
        "                x, y = torch.from_numpy(x), torch.from_numpy(y)\n",
        "\n",
        "                val_h = tuple([each.data for each in val_h])\n",
        "                \n",
        "                inputs, targets = x, y\n",
        "                inputs, targets = inputs.to(device), targets.to(device)\n",
        "\n",
        "                output, val_h = model(inputs, val_h)\n",
        "                val_loss = loss_fn(output, targets.view(batch_size*seq_length).long())\n",
        "            \n",
        "                val_losses.append(val_loss.item())\n",
        "            \n",
        "            model.train()      # Changing back to evaluation mode\n",
        "            print(f\"Epoch:{i}   Loss:{loss.item()}    Val_Loss: {np.mean(val_losses)}\")"
      ]
    },
    {
      "cell_type": "code",
      "execution_count": 17,
      "metadata": {
        "id": "Nk3qv3J__ECz"
      },
      "outputs": [],
      "source": [
        "def predict(model, token, hidden=None, top_k=1):\n",
        "\n",
        "  encoded_text = model.token2int[token]                           # Encode the token                  \n",
        "  encoded_text = np.array([[encoded_text]])\n",
        "  encoded_text = one_hot_encode(encoded_text, len(model.tokens))  # one-hot-encode the token\n",
        "  encoded_text = torch.from_numpy(encoded_text)\n",
        "  encoded_text = encoded_text.to(device)\n",
        "\n",
        "  hidden = tuple([state.data for state in hidden])\n",
        "  out, hidden = model(encoded_text, hidden)                       # Run the model\n",
        "\n",
        "  probs = F.softmax(out, dim=1).data                              # Convert out to probabilities\n",
        "  probs = probs.cpu()\n",
        "\n",
        "  probs, index = probs.topk(top_k)                            # Returns the top ks\n",
        "  \n",
        "  index = index.numpy().squeeze()\n",
        "  probs = probs.numpy().squeeze()\n",
        "\n",
        "  token = np.random.choice(index, p=probs/probs.sum())   # Convert probabilities per index and chose token based on that\n",
        "  \n",
        "  return model.int2token[token], hidden"
      ]
    },
    {
      "cell_type": "code",
      "execution_count": 18,
      "metadata": {
        "id": "rBwtQxHcBNwh"
      },
      "outputs": [],
      "source": [
        "\n",
        "  def sample(model, size, prime='The', top_k=None):\n",
        "\n",
        "    \n",
        "    model.eval() # eval mode\n",
        "    \n",
        "    # First off, run through the prime characters\n",
        "    chars = [ch for ch in prime]\n",
        "    h = model.hidden_state(1)\n",
        "    for ch in prime:\n",
        "        char, h = predict(model, ch, h, top_k=top_k)\n",
        "    chars.append(char)\n",
        "    \n",
        "    # Now pass in the previous character and get a new one\n",
        "    for ii in range(size):\n",
        "        char, h = predict(model, chars[-1], h, top_k=top_k)\n",
        "        chars.append(char)\n",
        "    return ''.join(chars)"
      ]
    },
    {
      "cell_type": "code",
      "execution_count": 19,
      "metadata": {
        "id": "2czU4-dG_flS"
      },
      "outputs": [],
      "source": [
        "def result(prefix):\n",
        " \n",
        "  while len(s)<6:\n",
        "    result = sample(model, 2, prime=prefix, top_k=5)\n",
        "    mol = Chem.MolFromSmiles(result)\n",
        "    if result not in s and mol:\n",
        "      print(f'SMI:  {result}')\n",
        "      s.add(str(result))"
      ]
    },
    {
      "cell_type": "code",
      "execution_count": 20,
      "metadata": {
        "colab": {
          "base_uri": "https://localhost:8080/"
        },
        "id": "kA956Y5o_fnZ",
        "outputId": "391fad11-a7b0-4b9a-80df-19653859fe41"
      },
      "outputs": [
        {
          "output_type": "stream",
          "name": "stdout",
          "text": [
            "Please enter your prefix: CCc1ccc\n",
            "SMI:  CCc1cccnc1\n",
            "SMI:  CCc1ccccc1\n",
            "SMI:  CCc1ccccn1\n",
            "SMI:  CCc1cccnn1\n",
            "SMI:  CCc1cccn1C\n",
            "SMI:  CCc1cccn1O\n"
          ]
        }
      ],
      "source": [
        "prefix = input('Please enter your prefix: ')\n",
        "s = set()\n",
        "result(prefix)"
      ]
    },
    {
      "cell_type": "code",
      "execution_count": 21,
      "metadata": {
        "id": "WTO56Rjy_fpt",
        "colab": {
          "base_uri": "https://localhost:8080/",
          "height": 167
        },
        "outputId": "6c4aebb4-9f0d-4091-f8ca-ef46bc901677"
      },
      "outputs": [
        {
          "output_type": "execute_result",
          "data": {
            "text/plain": [
              "<rdkit.Chem.rdchem.Mol at 0x7f7d13984120>"
            ],
            "image/png": "[encoded data removed]"
          },
          "metadata": {},
          "execution_count": 21
        }
      ],
      "source": [
        "Chem.MolFromSmiles('CCc1cccnc1')"
      ]
    },
    {
      "cell_type": "code",
      "execution_count": 22,
      "metadata": {
        "id": "ET_swb6z_fsC",
        "colab": {
          "base_uri": "https://localhost:8080/",
          "height": 167
        },
        "outputId": "e11d5a96-94e0-4b70-eeed-f22a6c9c42a3"
      },
      "outputs": [
        {
          "output_type": "execute_result",
          "data": {
            "text/plain": [
              "<rdkit.Chem.rdchem.Mol at 0x7f7d139fb430>"
            ],
            "image/png": "[encoded data removed]"
          },
          "metadata": {},
          "execution_count": 22
        }
      ],
      "source": [
        "Chem.MolFromSmiles('CCc1ccccc1')"
      ]
    },
    {
      "cell_type": "code",
      "execution_count": 23,
      "metadata": {
        "id": "pupQuGMT_EFK",
        "colab": {
          "base_uri": "https://localhost:8080/",
          "height": 167
        },
        "outputId": "8e4f343a-08f8-41c5-ba8e-1f7c4d31cde2"
      },
      "outputs": [
        {
          "output_type": "execute_result",
          "data": {
            "text/plain": [
              "<rdkit.Chem.rdchem.Mol at 0x7f7d139fb580>"
            ],
            "image/png": "[encoded data removed]"
          },
          "metadata": {},
          "execution_count": 23
        }
      ],
      "source": [
        "Chem.MolFromSmiles('CCc1ccccn1')"
      ]
    },
    {
      "cell_type": "code",
      "execution_count": 24,
      "metadata": {
        "id": "GxGxrGyH_EHq",
        "colab": {
          "base_uri": "https://localhost:8080/",
          "height": 167
        },
        "outputId": "269a9067-481a-43a4-dae1-ce1e0fdb2e66"
      },
      "outputs": [
        {
          "output_type": "execute_result",
          "data": {
            "text/plain": [
              "<rdkit.Chem.rdchem.Mol at 0x7f7d139fb120>"
            ],
            "image/png": "[encoded data removed]"
          },
          "metadata": {},
          "execution_count": 24
        }
      ],
      "source": [
        "Chem.MolFromSmiles('CCc1cccnn1')"
      ]
    },
    {
      "cell_type": "code",
      "execution_count": 25,
      "metadata": {
        "id": "uZSfmgTz-5_i",
        "colab": {
          "base_uri": "https://localhost:8080/",
          "height": 167
        },
        "outputId": "35d14511-0d3f-4f85-a5c6-944698abe276"
      },
      "outputs": [
        {
          "output_type": "execute_result",
          "data": {
            "text/plain": [
              "<rdkit.Chem.rdchem.Mol at 0x7f7d139fb3c0>"
            ],
            "image/png": "[encoded data removed]"
          },
          "metadata": {},
          "execution_count": 25
        }
      ],
      "source": [
        "Chem.MolFromSmiles('CCc1cccn1C')"
      ]
    },
    {
      "cell_type": "code",
      "source": [
        "Chem.MolFromSmiles('CCc1cccn1O')"
      ],
      "metadata": {
        "colab": {
          "base_uri": "https://localhost:8080/",
          "height": 167
        },
        "id": "sEOdBghhRya3",
        "outputId": "d28b3f8e-4aa4-43bf-c348-523632eb1375"
      },
      "execution_count": 26,
      "outputs": [
        {
          "output_type": "execute_result",
          "data": {
            "text/plain": [
              "<rdkit.Chem.rdchem.Mol at 0x7f7d139fb270>"
            ],
            "image/png": "[encoded data removed]"
          },
          "metadata": {},
          "execution_count": 26
        }
      ]
    }
  ],
  "metadata": {
    "colab": {
      "provenance": [],
      "authorship_tag": "ABX9TyN4Y87Z0P9A/Un+F1fMEulO",
      "include_colab_link": true
    },
    "gpuClass": "standard",
    "kernelspec": {
      "display_name": "Python 3",
      "name": "python3"
    },
    "language_info": {
      "name": "python"
    },
    "accelerator": "GPU"
  },
  "nbformat": 4,
  "nbformat_minor": 0
}