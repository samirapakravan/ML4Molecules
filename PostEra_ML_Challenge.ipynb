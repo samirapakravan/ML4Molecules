{
  "nbformat": 4,
  "nbformat_minor": 5,
  "metadata": {
    "kernelspec": {
      "display_name": "Python 3",
      "language": "python",
      "name": "python3"
    },
    "language_info": {
      "codemirror_mode": {
        "name": "ipython",
        "version": 3
      },
      "file_extension": ".py",
      "mimetype": "text/x-python",
      "name": "python",
      "nbconvert_exporter": "python",
      "pygments_lexer": "ipython3",
      "version": "3.9.5"
    },
    "colab": {
      "provenance": [],
      "include_colab_link": true
    },
    "accelerator": "GPU",
    "gpuClass": "standard"
  },
  "cells": [
    {
      "cell_type": "markdown",
      "metadata": {
        "id": "view-in-github",
        "colab_type": "text"
      },
      "source": [
        "<a href=\"https://colab.research.google.com/github/samirapakravan/ML_Challenge/blob/main/PostEra_ML_Challenge.ipynb\" target=\"_parent\"><img src=\"https://colab.research.google.com/assets/colab-badge.svg\" alt=\"Open In Colab\"/></a>"
      ]
    },
    {
      "cell_type": "markdown",
      "source": [
        "I was able to install RDKit using pip on colab"
      ],
      "metadata": {
        "id": "FWvGUlemy3Qx"
      },
      "id": "FWvGUlemy3Qx"
    },
    {
      "cell_type": "code",
      "source": [
        "pip install rdkit"
      ],
      "metadata": {
        "colab": {
          "base_uri": "https://localhost:8080/"
        },
        "id": "L88LRj1wy6TB",
        "outputId": "f9b7fb05-ddaf-45bf-9569-a17ec0530dbe"
      },
      "id": "L88LRj1wy6TB",
      "execution_count": null,
      "outputs": [
        {
          "output_type": "stream",
          "name": "stdout",
          "text": [
            "Looking in indexes: https://pypi.org/simple, https://us-python.pkg.dev/colab-wheels/public/simple/\n",
            "Collecting rdkit\n",
            "  Downloading rdkit-2022.9.4-cp38-cp38-manylinux_2_17_x86_64.manylinux2014_x86_64.whl (29.3 MB)\n",
            "\u001b[2K     \u001b[90m━━━━━━━━━━━━━━━━━━━━━━━━━━━━━━━━━━━━━━━━\u001b[0m \u001b[32m29.3/29.3 MB\u001b[0m \u001b[31m29.5 MB/s\u001b[0m eta \u001b[36m0:00:00\u001b[0m\n",
            "\u001b[?25hRequirement already satisfied: numpy in /usr/local/lib/python3.8/dist-packages (from rdkit) (1.21.6)\n",
            "Requirement already satisfied: Pillow in /usr/local/lib/python3.8/dist-packages (from rdkit) (7.1.2)\n",
            "Installing collected packages: rdkit\n",
            "Successfully installed rdkit-2022.9.4\n"
          ]
        }
      ]
    },
    {
      "cell_type": "markdown",
      "source": [
        "\n",
        "#**Beginnin Problem**"
      ],
      "metadata": {
        "id": "gPg5NvMbymNp"
      },
      "id": "gPg5NvMbymNp"
    },
    {
      "cell_type": "code",
      "source": [
        "import numpy as np\n",
        "import pandas as pd\n",
        "import matplotlib.pyplot as plt\n",
        "\n",
        "from rdkit import Chem\n",
        "from rdkit.Chem import Descriptors\n",
        "from rdkit.Chem import AllChem\n",
        "from rdkit.Chem.Draw import IPythonConsole \n",
        "\n",
        "import warnings\n",
        "warnings.filterwarnings('ignore')"
      ],
      "metadata": {
        "id": "--XHWomyyZUC"
      },
      "id": "--XHWomyyZUC",
      "execution_count": null,
      "outputs": []
    },
    {
      "cell_type": "markdown",
      "source": [
        "Adding the columns cLogP, HBD, HBA to the dataframealong with other columns"
      ],
      "metadata": {
        "id": "lFuvGKf80CBR"
      },
      "id": "lFuvGKf80CBR"
    },
    {
      "cell_type": "code",
      "source": [
        "sub_df = pd.read_csv('https://covid.postera.ai/covid/submissions.csv')\n",
        "sub_df = sub_df[['SMILES', 'CID', 'Submission Creator', 'Submission Rationale', 'MW', 'cLogP', 'HBD', 'HBA']]\n",
        "#sub_df.info()"
      ],
      "metadata": {
        "id": "2vyw1ZN-ye7g"
      },
      "id": "2vyw1ZN-ye7g",
      "execution_count": null,
      "outputs": []
    },
    {
      "cell_type": "markdown",
      "source": [
        "Applying Rule of 5 on dataframe and assigning the result to a new column 'ROF_violations', at this stage 'ROF_violations' will have up to 4 unique values.\n",
        "\n",
        "Next  the dataframe has been filtered down to only those molecules that have <= 1 Rule of 5 and dataframe is called ROF_df"
      ],
      "metadata": {
        "id": "Fx20odnCzlYv"
      },
      "id": "Fx20odnCzlYv"
    },
    {
      "cell_type": "code",
      "source": [
        "sub_df['ROF_violations']= sub_df['HBD'].apply(lambda x: 1 if x>5 else 0) + sub_df['HBA'].apply(lambda x: 1 if x>10 else 0) + sub_df['MW'].apply(lambda x: 1 if x>500 else 0) + sub_df['cLogP'].apply(lambda x: 1 if x>5 else 0)"
      ],
      "metadata": {
        "id": "x22yCaSzzdRQ"
      },
      "id": "x22yCaSzzdRQ",
      "execution_count": null,
      "outputs": []
    },
    {
      "cell_type": "code",
      "source": [
        "ROF_df = sub_df[sub_df['ROF_violations'] <= 1]"
      ],
      "metadata": {
        "id": "IvefHTzp1jHd"
      },
      "id": "IvefHTzp1jHd",
      "execution_count": null,
      "outputs": []
    },
    {
      "cell_type": "markdown",
      "source": [
        "Checking \"ROF_violations\" column to make sure it only has 0 or 1 "
      ],
      "metadata": {
        "id": "YCQ2cFNT2NAY"
      },
      "id": "YCQ2cFNT2NAY"
    },
    {
      "cell_type": "code",
      "source": [
        "ROF_df['ROF_violations'].unique()"
      ],
      "metadata": {
        "colab": {
          "base_uri": "https://localhost:8080/"
        },
        "id": "fp2eVtpM2MJI",
        "outputId": "efada12f-f468-411d-b341-e3266c09ab27"
      },
      "id": "fp2eVtpM2MJI",
      "execution_count": null,
      "outputs": [
        {
          "output_type": "execute_result",
          "data": {
            "text/plain": [
              "array([0, 1])"
            ]
          },
          "metadata": {},
          "execution_count": 50
        }
      ]
    },
    {
      "cell_type": "markdown",
      "source": [
        "**Looking for similar molecules**"
      ],
      "metadata": {
        "id": "dFZSX4-T2245"
      },
      "id": "dFZSX4-T2245"
    },
    {
      "cell_type": "code",
      "source": [
        "SARS_mol = Chem.MolFromSmiles('O=C(c1cc(=O)[nH]c2ccccc12)N1CCN(c2ccccc2)CC1')\n",
        "SARS_mol"
      ],
      "metadata": {
        "colab": {
          "base_uri": "https://localhost:8080/",
          "height": 167
        },
        "id": "VLGCYxiL22CB",
        "outputId": "1f6c2997-3700-40d2-a2f2-1812208a4728"
      },
      "id": "VLGCYxiL22CB",
      "execution_count": null,
      "outputs": [
        {
          "output_type": "execute_result",
          "data": {
            "text/plain": [
              "<rdkit.Chem.rdchem.Mol at 0x7f520170e120>"
            ],
            "image/png": "[encoded data removed]"
          },
          "metadata": {},
          "execution_count": 51
        }
      ]
    },
    {
      "cell_type": "code",
      "source": [
        "SARS_fp = np.array(AllChem.GetMorganFingerprintAsBitVect(SARS_mol,3,nBits=1024))"
      ],
      "metadata": {
        "id": "_QJWorvj28vI"
      },
      "id": "_QJWorvj28vI",
      "execution_count": null,
      "outputs": []
    },
    {
      "cell_type": "markdown",
      "source": [
        "Creating a function that includes 3 similarity metrics: Cosine_Sim, Dice_Sim, Tanimoto_Sim"
      ],
      "metadata": {
        "id": "rvUAx8dz3Dzo"
      },
      "id": "rvUAx8dz3Dzo"
    },
    {
      "cell_type": "code",
      "source": [
        "def simFuncs(SARS_fp, fp, opt):\n",
        "  if opt == 'Cosine_Sim':\n",
        "    return np.sum(SARS_fp*fp) / np.sqrt(np.sum(SARS_fp)*np.sum(fp))\n",
        "  \n",
        "  elif opt == 'Dice_Sim':\n",
        "    return np.sum(SARS_fp*fp)*2 / (np.sum(SARS_fp)+np.sum(fp))\n",
        "  \n",
        "  else:\n",
        "    return np.sum(SARS_fp*fp) / (np.sum(SARS_fp)+np.sum(fp)-np.sum(SARS_fp*fp))"
      ],
      "metadata": {
        "id": "EIY-EWdO28xw"
      },
      "id": "EIY-EWdO28xw",
      "execution_count": null,
      "outputs": []
    },
    {
      "cell_type": "markdown",
      "source": [
        "Applying metrics on data and add a new column for each metric"
      ],
      "metadata": {
        "id": "47aJhuvV3skh"
      },
      "id": "47aJhuvV3skh"
    },
    {
      "cell_type": "code",
      "source": [
        "funcOpt = ['Cosine_Sim','Dice_Sim','Tanimoto_Sim']\n",
        "\n",
        "for i, row in ROF_df.iterrows():\n",
        "  mol = Chem.MolFromSmiles(row['SMILES'])\n",
        "  fp = np.array(AllChem.GetMorganFingerprintAsBitVect(mol, 3, nBits=1024))\n",
        "  for opt in funcOpt:\n",
        "    ROF_df.loc[i,opt] = simFuncs(SARS_fp, fp, opt)"
      ],
      "metadata": {
        "id": "BPHXL9Xh281Q"
      },
      "id": "BPHXL9Xh281Q",
      "execution_count": null,
      "outputs": []
    },
    {
      "cell_type": "code",
      "source": [
        "ROF_df.head()"
      ],
      "metadata": {
        "colab": {
          "base_uri": "https://localhost:8080/",
          "height": 337
        },
        "id": "CXvf5iUn4N_y",
        "outputId": "83e7f62b-e00d-4e2a-cc94-24a89b523c88"
      },
      "id": "CXvf5iUn4N_y",
      "execution_count": null,
      "outputs": [
        {
          "output_type": "execute_result",
          "data": {
            "text/plain": [
              "                                      SMILES                 CID  \\\n",
              "0         N#Cc1ccccc1NC(=O)Cc1c[nH]c2ncccc12  ANT-DIA-3c79be55-1   \n",
              "1                 N#Cc1ccccc1NC(=O)Cc1cccnc1  ANT-DIA-3c79be55-2   \n",
              "2  CCNc1ccc(C#N)c(NC(=O)Cc2c[nH]c3ncccc23)c1  ANT-DIA-3c79be55-3   \n",
              "3         CS(=O)(=O)Cc1ccc(C(=O)Nc2cccnc2)o1  ANT-DIA-3c79be55-4   \n",
              "4         O=C(Nc1cccnc1)c1ccc(N2CCC(O)CC2)o1  ANT-DIA-3c79be55-5   \n",
              "\n",
              "                        Submission Creator  \\\n",
              "0  Anthony Aimon, Diamond Light Source Ltd   \n",
              "1  Anthony Aimon, Diamond Light Source Ltd   \n",
              "2  Anthony Aimon, Diamond Light Source Ltd   \n",
              "3  Anthony Aimon, Diamond Light Source Ltd   \n",
              "4  Anthony Aimon, Diamond Light Source Ltd   \n",
              "\n",
              "                                Submission Rationale       MW    cLogP  HBD  \\\n",
              "0  Nitrile of X0305 seems to be key and superimpo...  276.299  2.61578  2.0   \n",
              "1  Nitrile of X0305 seems to be key and superimpo...  237.262  2.13448  1.0   \n",
              "2  Nitrile of X0305 seems to be key and superimpo...  319.368  3.04758  3.0   \n",
              "3  Nitrile of X0305 seems to be key and superimpo...  280.305  1.47150  1.0   \n",
              "4  Nitrile of X0305 seems to be key and superimpo...  287.319  1.88800  2.0   \n",
              "\n",
              "   HBA  ROF_violations  Cosine_Sim  Dice_Sim  Tanimoto_Sim  \n",
              "0  3.0               0    0.205136  0.205128      0.114286  \n",
              "1  3.0               0    0.151620  0.150943      0.081633  \n",
              "2  4.0               0    0.207002  0.206349      0.115044  \n",
              "3  5.0               0    0.147093  0.146789      0.079208  \n",
              "4  5.0               0    0.212464  0.212389      0.118812  "
            ],
            "text/html": [
              "\n",
              "  <div id=\"df-5a80d38d-eaf1-4c6f-85ad-cadc899dc7cf\">\n",
              "    <div class=\"colab-df-container\">\n",
              "      <div>\n",
              "<style scoped>\n",
              "    .dataframe tbody tr th:only-of-type {\n",
              "        vertical-align: middle;\n",
              "    }\n",
              "\n",
              "    .dataframe tbody tr th {\n",
              "        vertical-align: top;\n",
              "    }\n",
              "\n",
              "    .dataframe thead th {\n",
              "        text-align: right;\n",
              "    }\n",
              "</style>\n",
              "<table border=\"1\" class=\"dataframe\">\n",
              "  <thead>\n",
              "    <tr style=\"text-align: right;\">\n",
              "      <th></th>\n",
              "      <th>SMILES</th>\n",
              "      <th>CID</th>\n",
              "      <th>Submission Creator</th>\n",
              "      <th>Submission Rationale</th>\n",
              "      <th>MW</th>\n",
              "      <th>cLogP</th>\n",
              "      <th>HBD</th>\n",
              "      <th>HBA</th>\n",
              "      <th>ROF_violations</th>\n",
              "      <th>Cosine_Sim</th>\n",
              "      <th>Dice_Sim</th>\n",
              "      <th>Tanimoto_Sim</th>\n",
              "    </tr>\n",
              "  </thead>\n",
              "  <tbody>\n",
              "    <tr>\n",
              "      <th>0</th>\n",
              "      <td>N#Cc1ccccc1NC(=O)Cc1c[nH]c2ncccc12</td>\n",
              "      <td>ANT-DIA-3c79be55-1</td>\n",
              "      <td>Anthony Aimon, Diamond Light Source Ltd</td>\n",
              "      <td>Nitrile of X0305 seems to be key and superimpo...</td>\n",
              "      <td>276.299</td>\n",
              "      <td>2.61578</td>\n",
              "      <td>2.0</td>\n",
              "      <td>3.0</td>\n",
              "      <td>0</td>\n",
              "      <td>0.205136</td>\n",
              "      <td>0.205128</td>\n",
              "      <td>0.114286</td>\n",
              "    </tr>\n",
              "    <tr>\n",
              "      <th>1</th>\n",
              "      <td>N#Cc1ccccc1NC(=O)Cc1cccnc1</td>\n",
              "      <td>ANT-DIA-3c79be55-2</td>\n",
              "      <td>Anthony Aimon, Diamond Light Source Ltd</td>\n",
              "      <td>Nitrile of X0305 seems to be key and superimpo...</td>\n",
              "      <td>237.262</td>\n",
              "      <td>2.13448</td>\n",
              "      <td>1.0</td>\n",
              "      <td>3.0</td>\n",
              "      <td>0</td>\n",
              "      <td>0.151620</td>\n",
              "      <td>0.150943</td>\n",
              "      <td>0.081633</td>\n",
              "    </tr>\n",
              "    <tr>\n",
              "      <th>2</th>\n",
              "      <td>CCNc1ccc(C#N)c(NC(=O)Cc2c[nH]c3ncccc23)c1</td>\n",
              "      <td>ANT-DIA-3c79be55-3</td>\n",
              "      <td>Anthony Aimon, Diamond Light Source Ltd</td>\n",
              "      <td>Nitrile of X0305 seems to be key and superimpo...</td>\n",
              "      <td>319.368</td>\n",
              "      <td>3.04758</td>\n",
              "      <td>3.0</td>\n",
              "      <td>4.0</td>\n",
              "      <td>0</td>\n",
              "      <td>0.207002</td>\n",
              "      <td>0.206349</td>\n",
              "      <td>0.115044</td>\n",
              "    </tr>\n",
              "    <tr>\n",
              "      <th>3</th>\n",
              "      <td>CS(=O)(=O)Cc1ccc(C(=O)Nc2cccnc2)o1</td>\n",
              "      <td>ANT-DIA-3c79be55-4</td>\n",
              "      <td>Anthony Aimon, Diamond Light Source Ltd</td>\n",
              "      <td>Nitrile of X0305 seems to be key and superimpo...</td>\n",
              "      <td>280.305</td>\n",
              "      <td>1.47150</td>\n",
              "      <td>1.0</td>\n",
              "      <td>5.0</td>\n",
              "      <td>0</td>\n",
              "      <td>0.147093</td>\n",
              "      <td>0.146789</td>\n",
              "      <td>0.079208</td>\n",
              "    </tr>\n",
              "    <tr>\n",
              "      <th>4</th>\n",
              "      <td>O=C(Nc1cccnc1)c1ccc(N2CCC(O)CC2)o1</td>\n",
              "      <td>ANT-DIA-3c79be55-5</td>\n",
              "      <td>Anthony Aimon, Diamond Light Source Ltd</td>\n",
              "      <td>Nitrile of X0305 seems to be key and superimpo...</td>\n",
              "      <td>287.319</td>\n",
              "      <td>1.88800</td>\n",
              "      <td>2.0</td>\n",
              "      <td>5.0</td>\n",
              "      <td>0</td>\n",
              "      <td>0.212464</td>\n",
              "      <td>0.212389</td>\n",
              "      <td>0.118812</td>\n",
              "    </tr>\n",
              "  </tbody>\n",
              "</table>\n",
              "</div>\n",
              "      <button class=\"colab-df-convert\" onclick=\"convertToInteractive('df-5a80d38d-eaf1-4c6f-85ad-cadc899dc7cf')\"\n",
              "              title=\"Convert this dataframe to an interactive table.\"\n",
              "              style=\"display:none;\">\n",
              "        \n",
              "  <svg xmlns=\"http://www.w3.org/2000/svg\" height=\"24px\"viewBox=\"0 0 24 24\"\n",
              "       width=\"24px\">\n",
              "    <path d=\"M0 0h24v24H0V0z\" fill=\"none\"/>\n",
              "    <path d=\"M18.56 5.44l.94 2.06.94-2.06 2.06-.94-2.06-.94-.94-2.06-.94 2.06-2.06.94zm-11 1L8.5 8.5l.94-2.06 2.06-.94-2.06-.94L8.5 2.5l-.94 2.06-2.06.94zm10 10l.94 2.06.94-2.06 2.06-.94-2.06-.94-.94-2.06-.94 2.06-2.06.94z\"/><path d=\"M17.41 7.96l-1.37-1.37c-.4-.4-.92-.59-1.43-.59-.52 0-1.04.2-1.43.59L10.3 9.45l-7.72 7.72c-.78.78-.78 2.05 0 2.83L4 21.41c.39.39.9.59 1.41.59.51 0 1.02-.2 1.41-.59l7.78-7.78 2.81-2.81c.8-.78.8-2.07 0-2.86zM5.41 20L4 18.59l7.72-7.72 1.47 1.35L5.41 20z\"/>\n",
              "  </svg>\n",
              "      </button>\n",
              "      \n",
              "  <style>\n",
              "    .colab-df-container {\n",
              "      display:flex;\n",
              "      flex-wrap:wrap;\n",
              "      gap: 12px;\n",
              "    }\n",
              "\n",
              "    .colab-df-convert {\n",
              "      background-color: #E8F0FE;\n",
              "      border: none;\n",
              "      border-radius: 50%;\n",
              "      cursor: pointer;\n",
              "      display: none;\n",
              "      fill: #1967D2;\n",
              "      height: 32px;\n",
              "      padding: 0 0 0 0;\n",
              "      width: 32px;\n",
              "    }\n",
              "\n",
              "    .colab-df-convert:hover {\n",
              "      background-color: #E2EBFA;\n",
              "      box-shadow: 0px 1px 2px rgba(60, 64, 67, 0.3), 0px 1px 3px 1px rgba(60, 64, 67, 0.15);\n",
              "      fill: #174EA6;\n",
              "    }\n",
              "\n",
              "    [theme=dark] .colab-df-convert {\n",
              "      background-color: #3B4455;\n",
              "      fill: #D2E3FC;\n",
              "    }\n",
              "\n",
              "    [theme=dark] .colab-df-convert:hover {\n",
              "      background-color: #434B5C;\n",
              "      box-shadow: 0px 1px 3px 1px rgba(0, 0, 0, 0.15);\n",
              "      filter: drop-shadow(0px 1px 2px rgba(0, 0, 0, 0.3));\n",
              "      fill: #FFFFFF;\n",
              "    }\n",
              "  </style>\n",
              "\n",
              "      <script>\n",
              "        const buttonEl =\n",
              "          document.querySelector('#df-5a80d38d-eaf1-4c6f-85ad-cadc899dc7cf button.colab-df-convert');\n",
              "        buttonEl.style.display =\n",
              "          google.colab.kernel.accessAllowed ? 'block' : 'none';\n",
              "\n",
              "        async function convertToInteractive(key) {\n",
              "          const element = document.querySelector('#df-5a80d38d-eaf1-4c6f-85ad-cadc899dc7cf');\n",
              "          const dataTable =\n",
              "            await google.colab.kernel.invokeFunction('convertToInteractive',\n",
              "                                                     [key], {});\n",
              "          if (!dataTable) return;\n",
              "\n",
              "          const docLinkHtml = 'Like what you see? Visit the ' +\n",
              "            '<a target=\"_blank\" href=https://colab.research.google.com/notebooks/data_table.ipynb>data table notebook</a>'\n",
              "            + ' to learn more about interactive tables.';\n",
              "          element.innerHTML = '';\n",
              "          dataTable['output_type'] = 'display_data';\n",
              "          await google.colab.output.renderOutput(dataTable, element);\n",
              "          const docLink = document.createElement('div');\n",
              "          docLink.innerHTML = docLinkHtml;\n",
              "          element.appendChild(docLink);\n",
              "        }\n",
              "      </script>\n",
              "    </div>\n",
              "  </div>\n",
              "  "
            ]
          },
          "metadata": {},
          "execution_count": 55
        }
      ]
    },
    {
      "cell_type": "markdown",
      "source": [
        "To test the correctness of my calculations, I redo the same process this time using the built-in metric functions available by importing  DataStructs\n",
        "\n",
        "So 3 more columns will be added to this dataframe (this part can be ignored)"
      ],
      "metadata": {
        "id": "shC34WeC3_uw"
      },
      "id": "shC34WeC3_uw"
    },
    {
      "cell_type": "code",
      "source": [
        "from rdkit import DataStructs\n",
        "\n",
        "SARS_fp = AllChem.GetMorganFingerprintAsBitVect(SARS_mol,3,nBits=1024)\n",
        "\n",
        "\n",
        "for i, row in ROF_df.iterrows():\n",
        "  mol = Chem.MolFromSmiles(row['SMILES'])\n",
        "  fp = AllChem.GetMorganFingerprintAsBitVect(mol, 3, nBits=1024)\n",
        "  ROF_df.loc[i,'Cosine_Sim2'] = DataStructs.FingerprintSimilarity(SARS_fp,fp,DataStructs.CosineSimilarity)\n",
        "  ROF_df.loc[i,'Dice_Sim2'] = DataStructs.FingerprintSimilarity(SARS_fp,fp, DataStructs.DiceSimilarity)\n",
        "  ROF_df.loc[i,'Tanimoto_Sim2'] = DataStructs.FingerprintSimilarity(SARS_fp,fp, DataStructs.TanimotoSimilarity)"
      ],
      "metadata": {
        "id": "VhtmahuD3-_R"
      },
      "id": "VhtmahuD3-_R",
      "execution_count": null,
      "outputs": []
    },
    {
      "cell_type": "code",
      "source": [
        "ROF_df['Cosine_Sim'].equals(ROF_df['Cosine_Sim2']) and ROF_df['Dice_Sim'].equals(ROF_df['Dice_Sim2']) and ROF_df['Tanimoto_Sim'].equals(ROF_df['Tanimoto_Sim2'])"
      ],
      "metadata": {
        "colab": {
          "base_uri": "https://localhost:8080/"
        },
        "id": "P63NUKmf5Pgo",
        "outputId": "624b39c3-ccdb-4695-b19f-0b7e5ba3dc97"
      },
      "id": "P63NUKmf5Pgo",
      "execution_count": null,
      "outputs": [
        {
          "output_type": "execute_result",
          "data": {
            "text/plain": [
              "True"
            ]
          },
          "metadata": {},
          "execution_count": 57
        }
      ]
    },
    {
      "cell_type": "markdown",
      "source": [
        "Find the 5 most similar molecules to SARS_mol in ROF_df"
      ],
      "metadata": {
        "id": "MXBFqEOL5W4T"
      },
      "id": "MXBFqEOL5W4T"
    },
    {
      "cell_type": "code",
      "source": [
        "df = ROF_df.sort_values(by=['Cosine_Sim'], ascending=[False]).head(5)\n",
        "Cosine_Sim_list = df[df.columns[0]].values.tolist()\n",
        "Cosine_Sim_list"
      ],
      "metadata": {
        "colab": {
          "base_uri": "https://localhost:8080/"
        },
        "id": "iJFir46H5PpJ",
        "outputId": "dfa249d0-0f23-4a83-cd4d-0c9527664f8a"
      },
      "id": "iJFir46H5PpJ",
      "execution_count": null,
      "outputs": [
        {
          "output_type": "execute_result",
          "data": {
            "text/plain": [
              "['O=C(c1cc(=O)[nH]c2ccccc12)N1CCN(c2ccccc2)CC1',\n",
              " 'O=C(c1cc(=O)[nH]c2ccccc12)N1CCN(c2ccccc2)CC1',\n",
              " 'O=C(c1cc(=O)[nH]c2ccccc12)N1CCN(c2ccc(F)cc2)CC1',\n",
              " 'COc1ccc(N2CCN(C(=O)c3cc(=O)[nH]c4ccccc34)CC2)cc1',\n",
              " 'COc1ccc(N2CCN(C(=O)c3cc(=O)[nH]c4ccccc34)CC2)cc1']"
            ]
          },
          "metadata": {},
          "execution_count": 58
        }
      ]
    },
    {
      "cell_type": "code",
      "source": [
        "df = ROF_df.sort_values(by=['Dice_Sim'], ascending=[False]).head(5)\n",
        "Dice_Sim_list = df[df.columns[0]].values.tolist()\n",
        "Dice_Sim_list"
      ],
      "metadata": {
        "colab": {
          "base_uri": "https://localhost:8080/"
        },
        "id": "QsNdAoCK5dAR",
        "outputId": "6a4dac7a-dfc6-48f4-e678-f1fd66f9188d"
      },
      "id": "QsNdAoCK5dAR",
      "execution_count": null,
      "outputs": [
        {
          "output_type": "execute_result",
          "data": {
            "text/plain": [
              "['O=C(c1cc(=O)[nH]c2ccccc12)N1CCN(c2ccccc2)CC1',\n",
              " 'O=C(c1cc(=O)[nH]c2ccccc12)N1CCN(c2ccccc2)CC1',\n",
              " 'O=C(c1cc(=O)[nH]c2ccccc12)N1CCN(c2ccc(F)cc2)CC1',\n",
              " 'COc1ccc(N2CCN(C(=O)c3cc(=O)[nH]c4ccccc34)CC2)cc1',\n",
              " 'COc1ccc(N2CCN(C(=O)c3cc(=O)[nH]c4ccccc34)CC2)cc1']"
            ]
          },
          "metadata": {},
          "execution_count": 59
        }
      ]
    },
    {
      "cell_type": "code",
      "source": [
        "df =ROF_df.sort_values(by=['Tanimoto_Sim'], ascending=[False]).head(5)\n",
        "Tanimoto_Sim_list = df[df.columns[0]].values.tolist()\n",
        "Tanimoto_Sim_list"
      ],
      "metadata": {
        "colab": {
          "base_uri": "https://localhost:8080/"
        },
        "id": "L49aBK_J5dCq",
        "outputId": "123a979b-2432-4cba-c62d-8bfbd2a82eb9"
      },
      "id": "L49aBK_J5dCq",
      "execution_count": null,
      "outputs": [
        {
          "output_type": "execute_result",
          "data": {
            "text/plain": [
              "['O=C(c1cc(=O)[nH]c2ccccc12)N1CCN(c2ccccc2)CC1',\n",
              " 'O=C(c1cc(=O)[nH]c2ccccc12)N1CCN(c2ccccc2)CC1',\n",
              " 'O=C(c1cc(=O)[nH]c2ccccc12)N1CCN(c2ccc(F)cc2)CC1',\n",
              " 'COc1ccc(N2CCN(C(=O)c3cc(=O)[nH]c4ccccc34)CC2)cc1',\n",
              " 'COc1ccc(N2CCN(C(=O)c3cc(=O)[nH]c4ccccc34)CC2)cc1']"
            ]
          },
          "metadata": {},
          "execution_count": 60
        }
      ]
    },
    {
      "cell_type": "code",
      "source": [
        "SARS_mol = Chem.MolFromSmiles('O=C(c1cc(=O)[nH]c2ccccc12)N1CCN(c2ccccc2)CC1')\n",
        "SARS_mol"
      ],
      "metadata": {
        "colab": {
          "base_uri": "https://localhost:8080/",
          "height": 167
        },
        "id": "4iOMv0-4BZQR",
        "outputId": "82366e41-ac76-4ff6-ac5d-0529dee071cc"
      },
      "id": "4iOMv0-4BZQR",
      "execution_count": null,
      "outputs": [
        {
          "output_type": "execute_result",
          "data": {
            "text/plain": [
              "<rdkit.Chem.rdchem.Mol at 0x7f52031c45f0>"
            ],
            "image/png": "[encoded data removed]"
          },
          "metadata": {},
          "execution_count": 62
        }
      ]
    },
    {
      "cell_type": "code",
      "source": [
        "Chem.Draw.MolsToGridImage(\n",
        "    [Chem.MolFromSmiles(x) for x in Cosine_Sim_list]\n",
        ")"
      ],
      "metadata": {
        "colab": {
          "base_uri": "https://localhost:8080/",
          "height": 417
        },
        "id": "6ED8nDYPBcAi",
        "outputId": "c055f77e-1cd2-487f-bb91-f88d7f671119"
      },
      "id": "6ED8nDYPBcAi",
      "execution_count": null,
      "outputs": [
        {
          "output_type": "execute_result",
          "data": {
            "image/png": "[encoded data removed]",
            "text/plain": [
              "<IPython.core.display.Image object>"
            ]
          },
          "metadata": {},
          "execution_count": 63
        }
      ]
    },
    {
      "cell_type": "code",
      "source": [
        "df"
      ],
      "metadata": {
        "colab": {
          "base_uri": "https://localhost:8080/",
          "height": 565
        },
        "id": "lqQpF2akAOZo",
        "outputId": "0c60075f-3979-451f-b6fc-e5ebe744f67d"
      },
      "id": "lqQpF2akAOZo",
      "execution_count": null,
      "outputs": [
        {
          "output_type": "execute_result",
          "data": {
            "text/plain": [
              "                                                SMILES                  CID  \\\n",
              "6013      O=C(c1cc(=O)[nH]c2ccccc12)N1CCN(c2ccccc2)CC1   EDJ-MED-78f964c8-1   \n",
              "3791      O=C(c1cc(=O)[nH]c2ccccc12)N1CCN(c2ccccc2)CC1   MAT-POS-916a2c5a-4   \n",
              "5478   O=C(c1cc(=O)[nH]c2ccccc12)N1CCN(c2ccc(F)cc2)CC1  BEN-DND-7e92b6ca-14   \n",
              "9355  COc1ccc(N2CCN(C(=O)c3cc(=O)[nH]c4ccccc34)CC2)cc1  KRI-MAR-d2e3ef86-13   \n",
              "5475  COc1ccc(N2CCN(C(=O)c3cc(=O)[nH]c4ccccc34)CC2)cc1  BEN-DND-7e92b6ca-11   \n",
              "\n",
              "                                     Submission Creator  \\\n",
              "6013                       Ed J Griffen, MedChemica Ltd   \n",
              "3791                             Matt Robinson, PostEra   \n",
              "5478                               Benjamin Perry, DNDi   \n",
              "9355  Kristijan Vukovic, Mario Negri Institute for P...   \n",
              "5475                               Benjamin Perry, DNDi   \n",
              "\n",
              "                                   Submission Rationale       MW   cLogP  HBD  \\\n",
              "6013  Piperazine analogue of MAT-POS-916a2c5a-2 desi...  333.391  2.4905  1.0   \n",
              "3791  https://pubchem.ncbi.nlm.nih.gov/bioassay/1890...  333.391  2.4905  1.0   \n",
              "5478  Scanning SAR around the 4-amidoquinolones iden...  351.140  2.6300  1.0   \n",
              "9355  The 28 chemicals are selected by the computati...  363.160  2.5000  1.0   \n",
              "5475  Scanning SAR around the 4-amidoquinolones iden...  363.160  2.5000  1.0   \n",
              "\n",
              "      HBA  ROF_violations  Cosine_Sim  Dice_Sim  Tanimoto_Sim  Cosine_Sim2  \\\n",
              "6013  3.0               0    1.000000  1.000000      1.000000     1.000000   \n",
              "3791  3.0               0    1.000000  1.000000      1.000000     1.000000   \n",
              "5478  3.0               0    0.881483  0.881356      0.787879     0.881483   \n",
              "9355  4.0               0    0.846901  0.845528      0.732394     0.846901   \n",
              "5475  4.0               0    0.846901  0.845528      0.732394     0.846901   \n",
              "\n",
              "      Dice_Sim2  Tanimoto_Sim2  \n",
              "6013   1.000000       1.000000  \n",
              "3791   1.000000       1.000000  \n",
              "5478   0.881356       0.787879  \n",
              "9355   0.845528       0.732394  \n",
              "5475   0.845528       0.732394  "
            ],
            "text/html": [
              "\n",
              "  <div id=\"df-c9d4cf8e-c6e1-4db8-a242-12ed699f6cc6\">\n",
              "    <div class=\"colab-df-container\">\n",
              "      <div>\n",
              "<style scoped>\n",
              "    .dataframe tbody tr th:only-of-type {\n",
              "        vertical-align: middle;\n",
              "    }\n",
              "\n",
              "    .dataframe tbody tr th {\n",
              "        vertical-align: top;\n",
              "    }\n",
              "\n",
              "    .dataframe thead th {\n",
              "        text-align: right;\n",
              "    }\n",
              "</style>\n",
              "<table border=\"1\" class=\"dataframe\">\n",
              "  <thead>\n",
              "    <tr style=\"text-align: right;\">\n",
              "      <th></th>\n",
              "      <th>SMILES</th>\n",
              "      <th>CID</th>\n",
              "      <th>Submission Creator</th>\n",
              "      <th>Submission Rationale</th>\n",
              "      <th>MW</th>\n",
              "      <th>cLogP</th>\n",
              "      <th>HBD</th>\n",
              "      <th>HBA</th>\n",
              "      <th>ROF_violations</th>\n",
              "      <th>Cosine_Sim</th>\n",
              "      <th>Dice_Sim</th>\n",
              "      <th>Tanimoto_Sim</th>\n",
              "      <th>Cosine_Sim2</th>\n",
              "      <th>Dice_Sim2</th>\n",
              "      <th>Tanimoto_Sim2</th>\n",
              "    </tr>\n",
              "  </thead>\n",
              "  <tbody>\n",
              "    <tr>\n",
              "      <th>6013</th>\n",
              "      <td>O=C(c1cc(=O)[nH]c2ccccc12)N1CCN(c2ccccc2)CC1</td>\n",
              "      <td>EDJ-MED-78f964c8-1</td>\n",
              "      <td>Ed J Griffen, MedChemica Ltd</td>\n",
              "      <td>Piperazine analogue of MAT-POS-916a2c5a-2 desi...</td>\n",
              "      <td>333.391</td>\n",
              "      <td>2.4905</td>\n",
              "      <td>1.0</td>\n",
              "      <td>3.0</td>\n",
              "      <td>0</td>\n",
              "      <td>1.000000</td>\n",
              "      <td>1.000000</td>\n",
              "      <td>1.000000</td>\n",
              "      <td>1.000000</td>\n",
              "      <td>1.000000</td>\n",
              "      <td>1.000000</td>\n",
              "    </tr>\n",
              "    <tr>\n",
              "      <th>3791</th>\n",
              "      <td>O=C(c1cc(=O)[nH]c2ccccc12)N1CCN(c2ccccc2)CC1</td>\n",
              "      <td>MAT-POS-916a2c5a-4</td>\n",
              "      <td>Matt Robinson, PostEra</td>\n",
              "      <td>https://pubchem.ncbi.nlm.nih.gov/bioassay/1890...</td>\n",
              "      <td>333.391</td>\n",
              "      <td>2.4905</td>\n",
              "      <td>1.0</td>\n",
              "      <td>3.0</td>\n",
              "      <td>0</td>\n",
              "      <td>1.000000</td>\n",
              "      <td>1.000000</td>\n",
              "      <td>1.000000</td>\n",
              "      <td>1.000000</td>\n",
              "      <td>1.000000</td>\n",
              "      <td>1.000000</td>\n",
              "    </tr>\n",
              "    <tr>\n",
              "      <th>5478</th>\n",
              "      <td>O=C(c1cc(=O)[nH]c2ccccc12)N1CCN(c2ccc(F)cc2)CC1</td>\n",
              "      <td>BEN-DND-7e92b6ca-14</td>\n",
              "      <td>Benjamin Perry, DNDi</td>\n",
              "      <td>Scanning SAR around the 4-amidoquinolones iden...</td>\n",
              "      <td>351.140</td>\n",
              "      <td>2.6300</td>\n",
              "      <td>1.0</td>\n",
              "      <td>3.0</td>\n",
              "      <td>0</td>\n",
              "      <td>0.881483</td>\n",
              "      <td>0.881356</td>\n",
              "      <td>0.787879</td>\n",
              "      <td>0.881483</td>\n",
              "      <td>0.881356</td>\n",
              "      <td>0.787879</td>\n",
              "    </tr>\n",
              "    <tr>\n",
              "      <th>9355</th>\n",
              "      <td>COc1ccc(N2CCN(C(=O)c3cc(=O)[nH]c4ccccc34)CC2)cc1</td>\n",
              "      <td>KRI-MAR-d2e3ef86-13</td>\n",
              "      <td>Kristijan Vukovic, Mario Negri Institute for P...</td>\n",
              "      <td>The 28 chemicals are selected by the computati...</td>\n",
              "      <td>363.160</td>\n",
              "      <td>2.5000</td>\n",
              "      <td>1.0</td>\n",
              "      <td>4.0</td>\n",
              "      <td>0</td>\n",
              "      <td>0.846901</td>\n",
              "      <td>0.845528</td>\n",
              "      <td>0.732394</td>\n",
              "      <td>0.846901</td>\n",
              "      <td>0.845528</td>\n",
              "      <td>0.732394</td>\n",
              "    </tr>\n",
              "    <tr>\n",
              "      <th>5475</th>\n",
              "      <td>COc1ccc(N2CCN(C(=O)c3cc(=O)[nH]c4ccccc34)CC2)cc1</td>\n",
              "      <td>BEN-DND-7e92b6ca-11</td>\n",
              "      <td>Benjamin Perry, DNDi</td>\n",
              "      <td>Scanning SAR around the 4-amidoquinolones iden...</td>\n",
              "      <td>363.160</td>\n",
              "      <td>2.5000</td>\n",
              "      <td>1.0</td>\n",
              "      <td>4.0</td>\n",
              "      <td>0</td>\n",
              "      <td>0.846901</td>\n",
              "      <td>0.845528</td>\n",
              "      <td>0.732394</td>\n",
              "      <td>0.846901</td>\n",
              "      <td>0.845528</td>\n",
              "      <td>0.732394</td>\n",
              "    </tr>\n",
              "  </tbody>\n",
              "</table>\n",
              "</div>\n",
              "      <button class=\"colab-df-convert\" onclick=\"convertToInteractive('df-c9d4cf8e-c6e1-4db8-a242-12ed699f6cc6')\"\n",
              "              title=\"Convert this dataframe to an interactive table.\"\n",
              "              style=\"display:none;\">\n",
              "        \n",
              "  <svg xmlns=\"http://www.w3.org/2000/svg\" height=\"24px\"viewBox=\"0 0 24 24\"\n",
              "       width=\"24px\">\n",
              "    <path d=\"M0 0h24v24H0V0z\" fill=\"none\"/>\n",
              "    <path d=\"M18.56 5.44l.94 2.06.94-2.06 2.06-.94-2.06-.94-.94-2.06-.94 2.06-2.06.94zm-11 1L8.5 8.5l.94-2.06 2.06-.94-2.06-.94L8.5 2.5l-.94 2.06-2.06.94zm10 10l.94 2.06.94-2.06 2.06-.94-2.06-.94-.94-2.06-.94 2.06-2.06.94z\"/><path d=\"M17.41 7.96l-1.37-1.37c-.4-.4-.92-.59-1.43-.59-.52 0-1.04.2-1.43.59L10.3 9.45l-7.72 7.72c-.78.78-.78 2.05 0 2.83L4 21.41c.39.39.9.59 1.41.59.51 0 1.02-.2 1.41-.59l7.78-7.78 2.81-2.81c.8-.78.8-2.07 0-2.86zM5.41 20L4 18.59l7.72-7.72 1.47 1.35L5.41 20z\"/>\n",
              "  </svg>\n",
              "      </button>\n",
              "      \n",
              "  <style>\n",
              "    .colab-df-container {\n",
              "      display:flex;\n",
              "      flex-wrap:wrap;\n",
              "      gap: 12px;\n",
              "    }\n",
              "\n",
              "    .colab-df-convert {\n",
              "      background-color: #E8F0FE;\n",
              "      border: none;\n",
              "      border-radius: 50%;\n",
              "      cursor: pointer;\n",
              "      display: none;\n",
              "      fill: #1967D2;\n",
              "      height: 32px;\n",
              "      padding: 0 0 0 0;\n",
              "      width: 32px;\n",
              "    }\n",
              "\n",
              "    .colab-df-convert:hover {\n",
              "      background-color: #E2EBFA;\n",
              "      box-shadow: 0px 1px 2px rgba(60, 64, 67, 0.3), 0px 1px 3px 1px rgba(60, 64, 67, 0.15);\n",
              "      fill: #174EA6;\n",
              "    }\n",
              "\n",
              "    [theme=dark] .colab-df-convert {\n",
              "      background-color: #3B4455;\n",
              "      fill: #D2E3FC;\n",
              "    }\n",
              "\n",
              "    [theme=dark] .colab-df-convert:hover {\n",
              "      background-color: #434B5C;\n",
              "      box-shadow: 0px 1px 3px 1px rgba(0, 0, 0, 0.15);\n",
              "      filter: drop-shadow(0px 1px 2px rgba(0, 0, 0, 0.3));\n",
              "      fill: #FFFFFF;\n",
              "    }\n",
              "  </style>\n",
              "\n",
              "      <script>\n",
              "        const buttonEl =\n",
              "          document.querySelector('#df-c9d4cf8e-c6e1-4db8-a242-12ed699f6cc6 button.colab-df-convert');\n",
              "        buttonEl.style.display =\n",
              "          google.colab.kernel.accessAllowed ? 'block' : 'none';\n",
              "\n",
              "        async function convertToInteractive(key) {\n",
              "          const element = document.querySelector('#df-c9d4cf8e-c6e1-4db8-a242-12ed699f6cc6');\n",
              "          const dataTable =\n",
              "            await google.colab.kernel.invokeFunction('convertToInteractive',\n",
              "                                                     [key], {});\n",
              "          if (!dataTable) return;\n",
              "\n",
              "          const docLinkHtml = 'Like what you see? Visit the ' +\n",
              "            '<a target=\"_blank\" href=https://colab.research.google.com/notebooks/data_table.ipynb>data table notebook</a>'\n",
              "            + ' to learn more about interactive tables.';\n",
              "          element.innerHTML = '';\n",
              "          dataTable['output_type'] = 'display_data';\n",
              "          await google.colab.output.renderOutput(dataTable, element);\n",
              "          const docLink = document.createElement('div');\n",
              "          docLink.innerHTML = docLinkHtml;\n",
              "          element.appendChild(docLink);\n",
              "        }\n",
              "      </script>\n",
              "    </div>\n",
              "  </div>\n",
              "  "
            ]
          },
          "metadata": {},
          "execution_count": 61
        }
      ]
    },
    {
      "cell_type": "markdown",
      "source": [
        "\n",
        "<br>\n",
        "\n",
        "By checking the SMILES and the metrics it seems that 2 out of the 5 returened values are exactly the same as SARS_mol, however I'm not quite sure, if that is the case we can ignore them and pick 2 more from top of our dataframe like following:\n",
        "\n",
        "<br>"
      ],
      "metadata": {
        "id": "kQaTfrwPBd5x"
      },
      "id": "kQaTfrwPBd5x"
    },
    {
      "cell_type": "code",
      "source": [
        "new_df = ROF_df[ROF_df['Tanimoto_Sim']<1].sort_values(by=['Tanimoto_Sim'], ascending=[False]).head(5)\n",
        "Tanimoto_Sim_list = new_df[new_df.columns[0]].values.tolist()\n",
        "Tanimoto_Sim_list"
      ],
      "metadata": {
        "colab": {
          "base_uri": "https://localhost:8080/"
        },
        "id": "qdXEzrw7_NU0",
        "outputId": "745d80d8-a6b3-4443-e361-1521c1221db0"
      },
      "id": "qdXEzrw7_NU0",
      "execution_count": null,
      "outputs": [
        {
          "output_type": "execute_result",
          "data": {
            "text/plain": [
              "['O=C(c1cc(=O)[nH]c2ccccc12)N1CCN(c2ccc(F)cc2)CC1',\n",
              " 'COc1ccc(N2CCN(C(=O)c3cc(=O)[nH]c4ccccc34)CC2)cc1',\n",
              " 'COc1ccc(N2CCN(C(=O)c3cc(=O)[nH]c4ccccc34)CC2)cc1',\n",
              " 'O=C(c1cc(=O)[nH]c2ccccc12)N1CCN(c2cccc(Cl)c2)CC1',\n",
              " 'O=C(c1cc(=O)[nH]c2ccccc12)N1CCN(c2cccc(F)c2)CC1']"
            ]
          },
          "metadata": {},
          "execution_count": 67
        }
      ]
    },
    {
      "cell_type": "code",
      "source": [
        "new_df"
      ],
      "metadata": {
        "colab": {
          "base_uri": "https://localhost:8080/",
          "height": 548
        },
        "id": "hQqeP21LAFdS",
        "outputId": "14a81431-dc92-4bba-c18d-a8fa584483e9"
      },
      "id": "hQqeP21LAFdS",
      "execution_count": null,
      "outputs": [
        {
          "output_type": "execute_result",
          "data": {
            "text/plain": [
              "                                                 SMILES                  CID  \\\n",
              "5478    O=C(c1cc(=O)[nH]c2ccccc12)N1CCN(c2ccc(F)cc2)CC1  BEN-DND-7e92b6ca-14   \n",
              "5475   COc1ccc(N2CCN(C(=O)c3cc(=O)[nH]c4ccccc34)CC2)cc1  BEN-DND-7e92b6ca-11   \n",
              "9355   COc1ccc(N2CCN(C(=O)c3cc(=O)[nH]c4ccccc34)CC2)cc1  KRI-MAR-d2e3ef86-13   \n",
              "13726  O=C(c1cc(=O)[nH]c2ccccc12)N1CCN(c2cccc(Cl)c2)CC1   ERI-UCB-a0b0dbcb-2   \n",
              "5479    O=C(c1cc(=O)[nH]c2ccccc12)N1CCN(c2cccc(F)c2)CC1  BEN-DND-7e92b6ca-15   \n",
              "\n",
              "                                      Submission Creator  \\\n",
              "5478                                Benjamin Perry, DNDi   \n",
              "5475                                Benjamin Perry, DNDi   \n",
              "9355   Kristijan Vukovic, Mario Negri Institute for P...   \n",
              "13726                                    Eric Jnoff, UCB   \n",
              "5479                                Benjamin Perry, DNDi   \n",
              "\n",
              "                                    Submission Rationale      MW  cLogP  HBD  \\\n",
              "5478   Scanning SAR around the 4-amidoquinolones iden...  351.14   2.63  1.0   \n",
              "5475   Scanning SAR around the 4-amidoquinolones iden...  363.16   2.50  1.0   \n",
              "9355   The 28 chemicals are selected by the computati...  363.16   2.50  1.0   \n",
              "13726  Visual alignment to the crystal structure of M...  367.11   3.14  1.0   \n",
              "5479   Scanning SAR around the 4-amidoquinolones iden...  351.14   2.63  1.0   \n",
              "\n",
              "       HBA  ROF_violations  Cosine_Sim  Dice_Sim  Tanimoto_Sim  Cosine_Sim2  \\\n",
              "5478   3.0               0    0.881483  0.881356      0.787879     0.881483   \n",
              "5475   4.0               0    0.846901  0.845528      0.732394     0.846901   \n",
              "9355   4.0               0    0.846901  0.845528      0.732394     0.846901   \n",
              "13726  3.0               0    0.837079  0.836066      0.718310     0.837079   \n",
              "5479   3.0               0    0.830614  0.829268      0.708333     0.830614   \n",
              "\n",
              "       Dice_Sim2  Tanimoto_Sim2  \n",
              "5478    0.881356       0.787879  \n",
              "5475    0.845528       0.732394  \n",
              "9355    0.845528       0.732394  \n",
              "13726   0.836066       0.718310  \n",
              "5479    0.829268       0.708333  "
            ],
            "text/html": [
              "\n",
              "  <div id=\"df-bbab1d46-f1f7-423c-adf2-71619d421aff\">\n",
              "    <div class=\"colab-df-container\">\n",
              "      <div>\n",
              "<style scoped>\n",
              "    .dataframe tbody tr th:only-of-type {\n",
              "        vertical-align: middle;\n",
              "    }\n",
              "\n",
              "    .dataframe tbody tr th {\n",
              "        vertical-align: top;\n",
              "    }\n",
              "\n",
              "    .dataframe thead th {\n",
              "        text-align: right;\n",
              "    }\n",
              "</style>\n",
              "<table border=\"1\" class=\"dataframe\">\n",
              "  <thead>\n",
              "    <tr style=\"text-align: right;\">\n",
              "      <th></th>\n",
              "      <th>SMILES</th>\n",
              "      <th>CID</th>\n",
              "      <th>Submission Creator</th>\n",
              "      <th>Submission Rationale</th>\n",
              "      <th>MW</th>\n",
              "      <th>cLogP</th>\n",
              "      <th>HBD</th>\n",
              "      <th>HBA</th>\n",
              "      <th>ROF_violations</th>\n",
              "      <th>Cosine_Sim</th>\n",
              "      <th>Dice_Sim</th>\n",
              "      <th>Tanimoto_Sim</th>\n",
              "      <th>Cosine_Sim2</th>\n",
              "      <th>Dice_Sim2</th>\n",
              "      <th>Tanimoto_Sim2</th>\n",
              "    </tr>\n",
              "  </thead>\n",
              "  <tbody>\n",
              "    <tr>\n",
              "      <th>5478</th>\n",
              "      <td>O=C(c1cc(=O)[nH]c2ccccc12)N1CCN(c2ccc(F)cc2)CC1</td>\n",
              "      <td>BEN-DND-7e92b6ca-14</td>\n",
              "      <td>Benjamin Perry, DNDi</td>\n",
              "      <td>Scanning SAR around the 4-amidoquinolones iden...</td>\n",
              "      <td>351.14</td>\n",
              "      <td>2.63</td>\n",
              "      <td>1.0</td>\n",
              "      <td>3.0</td>\n",
              "      <td>0</td>\n",
              "      <td>0.881483</td>\n",
              "      <td>0.881356</td>\n",
              "      <td>0.787879</td>\n",
              "      <td>0.881483</td>\n",
              "      <td>0.881356</td>\n",
              "      <td>0.787879</td>\n",
              "    </tr>\n",
              "    <tr>\n",
              "      <th>5475</th>\n",
              "      <td>COc1ccc(N2CCN(C(=O)c3cc(=O)[nH]c4ccccc34)CC2)cc1</td>\n",
              "      <td>BEN-DND-7e92b6ca-11</td>\n",
              "      <td>Benjamin Perry, DNDi</td>\n",
              "      <td>Scanning SAR around the 4-amidoquinolones iden...</td>\n",
              "      <td>363.16</td>\n",
              "      <td>2.50</td>\n",
              "      <td>1.0</td>\n",
              "      <td>4.0</td>\n",
              "      <td>0</td>\n",
              "      <td>0.846901</td>\n",
              "      <td>0.845528</td>\n",
              "      <td>0.732394</td>\n",
              "      <td>0.846901</td>\n",
              "      <td>0.845528</td>\n",
              "      <td>0.732394</td>\n",
              "    </tr>\n",
              "    <tr>\n",
              "      <th>9355</th>\n",
              "      <td>COc1ccc(N2CCN(C(=O)c3cc(=O)[nH]c4ccccc34)CC2)cc1</td>\n",
              "      <td>KRI-MAR-d2e3ef86-13</td>\n",
              "      <td>Kristijan Vukovic, Mario Negri Institute for P...</td>\n",
              "      <td>The 28 chemicals are selected by the computati...</td>\n",
              "      <td>363.16</td>\n",
              "      <td>2.50</td>\n",
              "      <td>1.0</td>\n",
              "      <td>4.0</td>\n",
              "      <td>0</td>\n",
              "      <td>0.846901</td>\n",
              "      <td>0.845528</td>\n",
              "      <td>0.732394</td>\n",
              "      <td>0.846901</td>\n",
              "      <td>0.845528</td>\n",
              "      <td>0.732394</td>\n",
              "    </tr>\n",
              "    <tr>\n",
              "      <th>13726</th>\n",
              "      <td>O=C(c1cc(=O)[nH]c2ccccc12)N1CCN(c2cccc(Cl)c2)CC1</td>\n",
              "      <td>ERI-UCB-a0b0dbcb-2</td>\n",
              "      <td>Eric Jnoff, UCB</td>\n",
              "      <td>Visual alignment to the crystal structure of M...</td>\n",
              "      <td>367.11</td>\n",
              "      <td>3.14</td>\n",
              "      <td>1.0</td>\n",
              "      <td>3.0</td>\n",
              "      <td>0</td>\n",
              "      <td>0.837079</td>\n",
              "      <td>0.836066</td>\n",
              "      <td>0.718310</td>\n",
              "      <td>0.837079</td>\n",
              "      <td>0.836066</td>\n",
              "      <td>0.718310</td>\n",
              "    </tr>\n",
              "    <tr>\n",
              "      <th>5479</th>\n",
              "      <td>O=C(c1cc(=O)[nH]c2ccccc12)N1CCN(c2cccc(F)c2)CC1</td>\n",
              "      <td>BEN-DND-7e92b6ca-15</td>\n",
              "      <td>Benjamin Perry, DNDi</td>\n",
              "      <td>Scanning SAR around the 4-amidoquinolones iden...</td>\n",
              "      <td>351.14</td>\n",
              "      <td>2.63</td>\n",
              "      <td>1.0</td>\n",
              "      <td>3.0</td>\n",
              "      <td>0</td>\n",
              "      <td>0.830614</td>\n",
              "      <td>0.829268</td>\n",
              "      <td>0.708333</td>\n",
              "      <td>0.830614</td>\n",
              "      <td>0.829268</td>\n",
              "      <td>0.708333</td>\n",
              "    </tr>\n",
              "  </tbody>\n",
              "</table>\n",
              "</div>\n",
              "      <button class=\"colab-df-convert\" onclick=\"convertToInteractive('df-bbab1d46-f1f7-423c-adf2-71619d421aff')\"\n",
              "              title=\"Convert this dataframe to an interactive table.\"\n",
              "              style=\"display:none;\">\n",
              "        \n",
              "  <svg xmlns=\"http://www.w3.org/2000/svg\" height=\"24px\"viewBox=\"0 0 24 24\"\n",
              "       width=\"24px\">\n",
              "    <path d=\"M0 0h24v24H0V0z\" fill=\"none\"/>\n",
              "    <path d=\"M18.56 5.44l.94 2.06.94-2.06 2.06-.94-2.06-.94-.94-2.06-.94 2.06-2.06.94zm-11 1L8.5 8.5l.94-2.06 2.06-.94-2.06-.94L8.5 2.5l-.94 2.06-2.06.94zm10 10l.94 2.06.94-2.06 2.06-.94-2.06-.94-.94-2.06-.94 2.06-2.06.94z\"/><path d=\"M17.41 7.96l-1.37-1.37c-.4-.4-.92-.59-1.43-.59-.52 0-1.04.2-1.43.59L10.3 9.45l-7.72 7.72c-.78.78-.78 2.05 0 2.83L4 21.41c.39.39.9.59 1.41.59.51 0 1.02-.2 1.41-.59l7.78-7.78 2.81-2.81c.8-.78.8-2.07 0-2.86zM5.41 20L4 18.59l7.72-7.72 1.47 1.35L5.41 20z\"/>\n",
              "  </svg>\n",
              "      </button>\n",
              "      \n",
              "  <style>\n",
              "    .colab-df-container {\n",
              "      display:flex;\n",
              "      flex-wrap:wrap;\n",
              "      gap: 12px;\n",
              "    }\n",
              "\n",
              "    .colab-df-convert {\n",
              "      background-color: #E8F0FE;\n",
              "      border: none;\n",
              "      border-radius: 50%;\n",
              "      cursor: pointer;\n",
              "      display: none;\n",
              "      fill: #1967D2;\n",
              "      height: 32px;\n",
              "      padding: 0 0 0 0;\n",
              "      width: 32px;\n",
              "    }\n",
              "\n",
              "    .colab-df-convert:hover {\n",
              "      background-color: #E2EBFA;\n",
              "      box-shadow: 0px 1px 2px rgba(60, 64, 67, 0.3), 0px 1px 3px 1px rgba(60, 64, 67, 0.15);\n",
              "      fill: #174EA6;\n",
              "    }\n",
              "\n",
              "    [theme=dark] .colab-df-convert {\n",
              "      background-color: #3B4455;\n",
              "      fill: #D2E3FC;\n",
              "    }\n",
              "\n",
              "    [theme=dark] .colab-df-convert:hover {\n",
              "      background-color: #434B5C;\n",
              "      box-shadow: 0px 1px 3px 1px rgba(0, 0, 0, 0.15);\n",
              "      filter: drop-shadow(0px 1px 2px rgba(0, 0, 0, 0.3));\n",
              "      fill: #FFFFFF;\n",
              "    }\n",
              "  </style>\n",
              "\n",
              "      <script>\n",
              "        const buttonEl =\n",
              "          document.querySelector('#df-bbab1d46-f1f7-423c-adf2-71619d421aff button.colab-df-convert');\n",
              "        buttonEl.style.display =\n",
              "          google.colab.kernel.accessAllowed ? 'block' : 'none';\n",
              "\n",
              "        async function convertToInteractive(key) {\n",
              "          const element = document.querySelector('#df-bbab1d46-f1f7-423c-adf2-71619d421aff');\n",
              "          const dataTable =\n",
              "            await google.colab.kernel.invokeFunction('convertToInteractive',\n",
              "                                                     [key], {});\n",
              "          if (!dataTable) return;\n",
              "\n",
              "          const docLinkHtml = 'Like what you see? Visit the ' +\n",
              "            '<a target=\"_blank\" href=https://colab.research.google.com/notebooks/data_table.ipynb>data table notebook</a>'\n",
              "            + ' to learn more about interactive tables.';\n",
              "          element.innerHTML = '';\n",
              "          dataTable['output_type'] = 'display_data';\n",
              "          await google.colab.output.renderOutput(dataTable, element);\n",
              "          const docLink = document.createElement('div');\n",
              "          docLink.innerHTML = docLinkHtml;\n",
              "          element.appendChild(docLink);\n",
              "        }\n",
              "      </script>\n",
              "    </div>\n",
              "  </div>\n",
              "  "
            ]
          },
          "metadata": {},
          "execution_count": 68
        }
      ]
    },
    {
      "cell_type": "code",
      "source": [
        "SARS_mol = Chem.MolFromSmiles('O=C(c1cc(=O)[nH]c2ccccc12)N1CCN(c2ccccc2)CC1')\n",
        "SARS_mol"
      ],
      "metadata": {
        "colab": {
          "base_uri": "https://localhost:8080/",
          "height": 167
        },
        "id": "vTh9psgz59eZ",
        "outputId": "d26e983c-71ce-4259-c22f-b88e6b18c7f0"
      },
      "id": "vTh9psgz59eZ",
      "execution_count": null,
      "outputs": [
        {
          "output_type": "execute_result",
          "data": {
            "text/plain": [
              "<rdkit.Chem.rdchem.Mol at 0x7f52032083c0>"
            ],
            "image/png": "[encoded data removed]"
          },
          "metadata": {},
          "execution_count": 69
        }
      ]
    },
    {
      "cell_type": "code",
      "source": [
        "Chem.Draw.MolsToGridImage(\n",
        "    [Chem.MolFromSmiles(x) for x in Tanimoto_Sim_list]\n",
        ")"
      ],
      "metadata": {
        "colab": {
          "base_uri": "https://localhost:8080/",
          "height": 417
        },
        "id": "j7ZKBLKN6Nu4",
        "outputId": "fc648590-2ed0-47ee-b370-042415e8f121"
      },
      "id": "j7ZKBLKN6Nu4",
      "execution_count": null,
      "outputs": [
        {
          "output_type": "execute_result",
          "data": {
            "image/png": "[encoded data removed]",
            "text/plain": [
              "<IPython.core.display.Image object>"
            ]
          },
          "metadata": {},
          "execution_count": 70
        }
      ]
    },
    {
      "cell_type": "markdown",
      "source": [
        "\n",
        "\n",
        "\n",
        "\n",
        "\n",
        "---\n",
        "\n",
        "\n",
        "\n",
        "---\n",
        "\n",
        "\n",
        "---\n",
        "\n"
      ],
      "metadata": {
        "id": "8SvD0eUF9E8a"
      },
      "id": "8SvD0eUF9E8a"
    },
    {
      "cell_type": "markdown",
      "source": [
        "#**Medium Problem**"
      ],
      "metadata": {
        "id": "Yj4CB4_uyfK4"
      },
      "id": "Yj4CB4_uyfK4"
    },
    {
      "cell_type": "code",
      "source": [
        "from rdkit import Chem\n",
        "from rdkit.Chem import Descriptors\n",
        "from rdkit.Chem import AllChem\n",
        "from rdkit.Chem.Draw import IPythonConsole \n",
        "\n",
        "import numpy as np\n",
        "from sklearn.model_selection import train_test_split\n",
        "\n",
        "import torch\n",
        "import torch.nn as nn\n",
        "import torch.nn.functional as F\n",
        "\n",
        "import numpy as np\n",
        "import matplotlib.pyplot as plt\n",
        "import pandas as pd\n",
        "from torch.utils.data import TensorDataset, DataLoader\n",
        "from torch.optim.lr_scheduler import StepLR\n",
        "from torch.optim.lr_scheduler import ReduceLROnPlateau\n",
        "from tqdm.notebook import trange\n",
        "\n",
        "# CUDA for PyTorch\n",
        "use_cuda = torch.cuda.is_available()\n",
        "device = torch.device(\"cuda:0\" if torch.cuda.is_available() else \"cpu\")\n",
        "torch.backends.cudnn.benchmark = True"
      ],
      "metadata": {
        "id": "Nmf91tFSxzxG"
      },
      "id": "Nmf91tFSxzxG",
      "execution_count": null,
      "outputs": []
    },
    {
      "cell_type": "markdown",
      "source": [
        "Reading file contents and filtering the SMILES to those with at most 50 characters:"
      ],
      "metadata": {
        "id": "yepM1t7rKYLf"
      },
      "id": "yepM1t7rKYLf"
    },
    {
      "cell_type": "code",
      "source": [
        "zinc_df = pd.read_csv('SMILES_Keyboard.csv')\n",
        "zinc_df = zinc_df.loc[zinc_df['SMILES'].str.len()<50][['SMILES', 'NAME']].reset_index(drop=True)"
      ],
      "metadata": {
        "id": "sDUhx5a6x0bH"
      },
      "id": "sDUhx5a6x0bH",
      "execution_count": null,
      "outputs": []
    },
    {
      "cell_type": "markdown",
      "source": [
        "##**Method 1:** Natural Language Processing technique; i.e., neighborhood in latent space.\n",
        "\n"
      ],
      "metadata": {
        "id": "JytxTFh3LVkw"
      },
      "id": "JytxTFh3LVkw"
    },
    {
      "cell_type": "markdown",
      "source": [
        "###**Tokenization and Encoding** \n",
        "\n",
        "Tokenizer function to separate SMILES strings into separate tokens:"
      ],
      "metadata": {
        "id": "KjZ-9Wq0LbEx"
      },
      "id": "KjZ-9Wq0LbEx"
    },
    {
      "cell_type": "code",
      "source": [
        "def smi_tokenizer(smi):\n",
        "    \"\"\"\n",
        "    Tokenize a SMILES molecule or reaction\n",
        "    \"\"\"\n",
        "    import re\n",
        "    pattern =  \"(\\[[^\\]]+]|Br?|Cl?|N|O|S|P|F|I|b|c|n|o|s|p|\\(|\\)|\\.|=|#|-|\\+|\\\\\\\\|\\/|:|~|@|\\?|>|\\*|\\$|\\%[0-9]{2}|[0-9])\"\n",
        "    regex = re.compile(pattern)\n",
        "    tokens = [token for token in regex.findall(smi)]\n",
        "    assert smi == ''.join(tokens)\n",
        "    return ' '.join(tokens)"
      ],
      "metadata": {
        "id": "0VPGXZ_Rx3Cu"
      },
      "id": "0VPGXZ_Rx3Cu",
      "execution_count": null,
      "outputs": []
    },
    {
      "cell_type": "markdown",
      "source": [
        "Finding all the unique tokens and encoding the entire dataset using 2 dictionaries that convert token to integer and integer to token"
      ],
      "metadata": {
        "id": "Bzt9bxVvLhz6"
      },
      "id": "Bzt9bxVvLhz6"
    },
    {
      "cell_type": "code",
      "source": [
        "tokenized_data = \"\"\n",
        "for i, row in zinc_df.iterrows():\n",
        "  t = smi_tokenizer(row['SMILES'])\n",
        "  tokenized_data += ' ' + t                     \n",
        "\n",
        "tokenSet = set()\n",
        "txt = []\n",
        "for token in tokenized_data.split(\" \"):\n",
        "  txt.append(token)\n",
        "  tokenSet.add(token)\n",
        "\n",
        "int2token = dict(enumerate(tokenSet))\n",
        "token2int = {t: id for id, t in int2token.items()}\n",
        "encoded = np.array([token2int[t] for t in txt])       # Encoded version of the entire dataset"
      ],
      "metadata": {
        "id": "95h7Eijjx4V-"
      },
      "id": "95h7Eijjx4V-",
      "execution_count": null,
      "outputs": []
    },
    {
      "cell_type": "markdown",
      "source": [
        "Creating one-hot-encoding: creating column vector based on the integer values of tokens"
      ],
      "metadata": {
        "id": "NQ6RvjtmLqf3"
      },
      "id": "NQ6RvjtmLqf3"
    },
    {
      "cell_type": "code",
      "source": [
        "def one_hot_encode(encoded, n_uni_tokens):\n",
        "    one_hot = np.zeros((encoded.size, n_uni_tokens), dtype=np.float32)  # Starting with zeros\n",
        "    one_hot[np.arange(one_hot.shape[0]), encoded.flatten()] = 1.0       # Wherever index position meets set it 1\n",
        "    one_hot = one_hot.reshape((*encoded.shape, n_uni_tokens))           # Reshape to get the original batch shape   \n",
        "    return one_hot"
      ],
      "metadata": {
        "id": "BF7aJaApx6Iu"
      },
      "id": "BF7aJaApx6Iu",
      "execution_count": null,
      "outputs": []
    },
    {
      "cell_type": "markdown",
      "source": [
        "###**Generating Training Batches** "
      ],
      "metadata": {
        "id": "wvQid8ezLqB3"
      },
      "id": "wvQid8ezLqB3"
    },
    {
      "cell_type": "markdown",
      "source": [
        "Each training sample is a sequence of tokens along with a label which is the same sequence shifted by 1 time step"
      ],
      "metadata": {
        "id": "N_PbtGh0Lyo4"
      },
      "id": "N_PbtGh0Lyo4"
    },
    {
      "cell_type": "code",
      "source": [
        "def generate_batches(encoded, batch_size, seq_len):\n",
        "    token_per_batch = batch_size * seq_len            # Total number of tokens per batch\n",
        "    n_batches = len(encoded)//token_per_batch         # Total number of batches we can make out of all data\n",
        "    \n",
        "    encoded = encoded[:n_batches * token_per_batch]   # Cut of the end of encode\n",
        "    encoded = encoded.reshape((batch_size, -1))       # Reshape encoded data into rows of size batch\n",
        "    \n",
        "    for n in range(0, encoded.shape[1], seq_len):     # Encoded is reshaped now, so we go along dimension 1\n",
        "        x = encoded[:, n:n+seq_len]\n",
        "        y = np.zeros_like(x)                          # Creating array of zeros with same shape as x\n",
        "        \n",
        "        try:\n",
        "            y[:,:-1] = x[:,1:]\n",
        "            y[:,-1] = encoded[:,n+seq_len]       \n",
        "        except:                                       # At the end there is a possibility to go out of range\n",
        "            y[:,:-1] = x[:,1:]\n",
        "            y[:,-1] = encoded[:,0]\n",
        "        yield x, y"
      ],
      "metadata": {
        "id": "tVdd9-Q4x72Z"
      },
      "id": "tVdd9-Q4x72Z",
      "execution_count": null,
      "outputs": []
    },
    {
      "cell_type": "markdown",
      "source": [
        "###**Creating NN Model** "
      ],
      "metadata": {
        "id": "9ZUgvQ1GL2rg"
      },
      "id": "9ZUgvQ1GL2rg"
    },
    {
      "cell_type": "markdown",
      "source": [
        "This model is equivalent to a character level model in NLP.\n",
        "\n",
        "The network will be trained token by token on an encoded dataset of all tokenized SMILES and it will generate SMILES token by token\n",
        "\n",
        "The LSTM layer has been used in this model"
      ],
      "metadata": {
        "id": "k-WLyJLPnQ_J"
      },
      "id": "k-WLyJLPnQ_J"
    },
    {
      "cell_type": "code",
      "source": [
        "class Model(nn.Module):\n",
        "    \n",
        "    def __init__(self, tokens, n_hidden=10, n_layers=2):\n",
        "        super().__init__()\n",
        "\n",
        "        self.n_layers = n_layers\n",
        "        self.n_hidden = n_hidden\n",
        "\n",
        "        # our built-in dictionaries\n",
        "        self.tokens = tokens\n",
        "        self.int2token = dict(enumerate(self.tokens))\n",
        "        self.token2int = {t: id for id, t in int2token.items()}\n",
        "        \n",
        "        self.lstm = nn.LSTM(len(self.tokens), n_hidden, n_layers, dropout=0.2, batch_first=True)   # batch_first=True --> (batch, seq, feature)\n",
        "        self.dropout = nn.Dropout(0.2)                                                             # Dropout layer to avoid overfitting\n",
        "        self.fc = nn.Linear(n_hidden, len(self.tokens)) \n",
        "\n",
        "    def forward(self, x, hidden):\n",
        "        lstm_out, hidden = self.lstm(x, hidden)      \n",
        "        out = self.dropout(lstm_out)  \n",
        "        out = out.contiguous().view(-1, self.n_hidden)       # Correct the view so we can pass it to the fc layer    \n",
        "        out = self.fc(out)   \n",
        "        return out, hidden   \n",
        "\n",
        "    def hidden_state(self, batch_size):\n",
        "        hidden = (torch.zeros(self.n_layers, batch_size, self.n_hidden).to(device), torch.zeros(self.n_layers, batch_size, self.n_hidden).to(device))        \n",
        "        return hidden\n"
      ],
      "metadata": {
        "id": "4psPmybtyHAW"
      },
      "id": "4psPmybtyHAW",
      "execution_count": null,
      "outputs": []
    },
    {
      "cell_type": "code",
      "source": [
        "n_hidden=50\n",
        "n_layers=3\n",
        "model = Model(tokenSet, n_hidden, n_layers).to(device)\n",
        "print(model)"
      ],
      "metadata": {
        "colab": {
          "base_uri": "https://localhost:8080/"
        },
        "id": "8AeieJGzyPYe",
        "outputId": "8e690414-ee94-40c2-9cf3-fd1903593a97"
      },
      "id": "8AeieJGzyPYe",
      "execution_count": null,
      "outputs": [
        {
          "output_type": "stream",
          "name": "stdout",
          "text": [
            "Model(\n",
            "  (lstm): LSTM(55, 50, num_layers=3, batch_first=True, dropout=0.2)\n",
            "  (dropout): Dropout(p=0.2, inplace=False)\n",
            "  (fc): Linear(in_features=50, out_features=55, bias=True)\n",
            ")\n"
          ]
        }
      ]
    },
    {
      "cell_type": "markdown",
      "source": [
        "###**Training the Model** "
      ],
      "metadata": {
        "id": "XKmJC5IyMBlH"
      },
      "id": "XKmJC5IyMBlH"
    },
    {
      "cell_type": "markdown",
      "source": [
        "Splitting the data into train and test datasets"
      ],
      "metadata": {
        "id": "0PIQmtEEXk1p"
      },
      "id": "0PIQmtEEXk1p"
    },
    {
      "cell_type": "code",
      "source": [
        "indx = int(len(encoded)*(1-0.1))\n",
        "train, test = encoded[:indx], encoded[indx:]"
      ],
      "metadata": {
        "id": "_UUmV83JXi9g"
      },
      "id": "_UUmV83JXi9g",
      "execution_count": null,
      "outputs": []
    },
    {
      "cell_type": "markdown",
      "source": [
        "Defining optimizer and loss function "
      ],
      "metadata": {
        "id": "a_LBUhW9Yqv0"
      },
      "id": "a_LBUhW9Yqv0"
    },
    {
      "cell_type": "code",
      "source": [
        "lr = 0.005\n",
        "optimizer = torch.optim.Adam(model.parameters(), lr=lr)\n",
        "loss_fn = nn.CrossEntropyLoss()"
      ],
      "metadata": {
        "id": "ADRVjJQTNlVQ"
      },
      "id": "ADRVjJQTNlVQ",
      "execution_count": null,
      "outputs": []
    },
    {
      "cell_type": "markdown",
      "source": [
        "Defining parameters "
      ],
      "metadata": {
        "id": "NW5MfLtIbCmB"
      },
      "id": "NW5MfLtIbCmB"
    },
    {
      "cell_type": "code",
      "source": [
        "epochs = 50\n",
        "b = 0\n",
        "batch_size = 128\n",
        "seq_length = 50\n",
        "n_uni_tokens = len(model.tokens)"
      ],
      "metadata": {
        "id": "z_ekSDh3Nodw"
      },
      "id": "z_ekSDh3Nodw",
      "execution_count": null,
      "outputs": []
    },
    {
      "cell_type": "markdown",
      "source": [
        "Training loop"
      ],
      "metadata": {
        "id": "8HFdrTucrP14"
      },
      "id": "8HFdrTucrP14"
    },
    {
      "cell_type": "code",
      "source": [
        "model.train()\n",
        "\n",
        "for i in range(epochs):\n",
        "    h = model.hidden_state(batch_size)\n",
        "    \n",
        "    for x, y in generate_batches(train, batch_size, seq_length):    # Creating input and target batches\n",
        "        b += 1\n",
        "\n",
        "        x = one_hot_encode(x, n_uni_tokens)                         # Creating one_hot_encoding of input\n",
        "        inputs, targets = torch.from_numpy(x), torch.from_numpy(y)  # Creating a Tensor from a numpy.ndarray\n",
        "        inputs, targets = inputs.to(device), targets.to(device)     # Using available device\n",
        "\n",
        "        h = tuple([each.data for each in h]) # Resetting the hidden state, if we don't reset it, it will backprop into all training\n",
        "\n",
        "        optimizer.zero_grad()\n",
        "        \n",
        "        output, h = model(inputs, h)     \n",
        "        loss = loss_fn(output, targets.view(batch_size*seq_length).long())  # Calculating the loss with correct shape of target\n",
        "        loss.backward()                                                     # Performs backpropagation\n",
        "        optimizer.step()     # Updates the value of parameters according to the optimization strategy\n",
        "        \n",
        "        if b % 100 == 0:\n",
        "            val_h = model.hidden_state(batch_size)\n",
        "            val_losses = []\n",
        "            model.eval()      # Changing to evaluation mode and doing the same process on test data\n",
        "\n",
        "            for x, y in generate_batches(test, batch_size, seq_length):\n",
        "                x = one_hot_encode(x, n_uni_tokens)\n",
        "                x, y = torch.from_numpy(x), torch.from_numpy(y)\n",
        "\n",
        "                val_h = tuple([each.data for each in val_h])\n",
        "                \n",
        "                inputs, targets = x, y\n",
        "                inputs, targets = inputs.to(device), targets.to(device)\n",
        "\n",
        "                output, val_h = model(inputs, val_h)\n",
        "                val_loss = loss_fn(output, targets.view(batch_size*seq_length).long())\n",
        "            \n",
        "                val_losses.append(val_loss.item())\n",
        "            \n",
        "            model.train()      # Changing back to evaluation mode\n",
        "            print(f\"Epoch:{i}   Loss:{loss.item()}    Val_Loss: {np.mean(val_losses)}\")\n"
      ],
      "metadata": {
        "colab": {
          "base_uri": "https://localhost:8080/"
        },
        "id": "FnSo5tO7UecI",
        "outputId": "9c807b5a-41b4-45d2-c0c1-2ca3a534e924"
      },
      "id": "FnSo5tO7UecI",
      "execution_count": null,
      "outputs": [
        {
          "output_type": "stream",
          "name": "stdout",
          "text": [
            "Epoch:1   Loss:2.3373095989227295    Val_Loss: 2.3280267318089805\n",
            "Epoch:3   Loss:1.9556472301483154    Val_Loss: 1.9328383008639018\n",
            "Epoch:5   Loss:1.7076448202133179    Val_Loss: 1.6521549423535664\n",
            "Epoch:7   Loss:1.6034549474716187    Val_Loss: 1.5337611436843872\n",
            "Epoch:8   Loss:1.4792097806930542    Val_Loss: 1.4463388125101726\n",
            "Epoch:10   Loss:1.426172137260437    Val_Loss: 1.380546748638153\n",
            "Epoch:12   Loss:1.3626774549484253    Val_Loss: 1.3407535155614216\n",
            "Epoch:14   Loss:1.3205933570861816    Val_Loss: 1.3107359011967976\n",
            "Epoch:15   Loss:1.3024358749389648    Val_Loss: 1.2827066381772358\n",
            "Epoch:17   Loss:1.257061243057251    Val_Loss: 1.2600040038426716\n",
            "Epoch:19   Loss:1.2755206823349    Val_Loss: 1.22804989417394\n",
            "Epoch:21   Loss:1.179123044013977    Val_Loss: 1.2085735599199932\n",
            "Epoch:22   Loss:1.1752290725708008    Val_Loss: 1.1958153049151103\n",
            "Epoch:24   Loss:1.1480222940444946    Val_Loss: 1.1853307485580444\n",
            "Epoch:26   Loss:1.1375137567520142    Val_Loss: 1.1577343344688416\n",
            "Epoch:28   Loss:1.1032596826553345    Val_Loss: 1.1546109318733215\n",
            "Epoch:29   Loss:1.0800443887710571    Val_Loss: 1.148362636566162\n",
            "Epoch:31   Loss:1.094691514968872    Val_Loss: 1.1318580706914265\n",
            "Epoch:33   Loss:1.1256892681121826    Val_Loss: 1.1307116548220317\n",
            "Epoch:35   Loss:1.0585936307907104    Val_Loss: 1.1217219432195027\n",
            "Epoch:36   Loss:1.0334028005599976    Val_Loss: 1.1242982347806294\n",
            "Epoch:38   Loss:1.064455509185791    Val_Loss: 1.1083590388298035\n",
            "Epoch:40   Loss:1.0378493070602417    Val_Loss: 1.1010443369547527\n",
            "Epoch:42   Loss:1.0215513706207275    Val_Loss: 1.100307047367096\n",
            "Epoch:43   Loss:1.0051206350326538    Val_Loss: 1.1038589477539062\n",
            "Epoch:45   Loss:1.0129027366638184    Val_Loss: 1.107412318388621\n",
            "Epoch:47   Loss:0.9881213903427124    Val_Loss: 1.0930680235226948\n",
            "Epoch:49   Loss:0.9750622510910034    Val_Loss: 1.09348064661026\n"
          ]
        }
      ]
    },
    {
      "cell_type": "markdown",
      "source": [
        "To monitor the performance and avoid overfitting, both train and validation loss are printed, if the the training loss become much smaller than validation loss, our model is overfitting, in that case we can add regularizaer or adjust dropout \n"
      ],
      "metadata": {
        "id": "dOp1ugTcjTMB"
      },
      "id": "dOp1ugTcjTMB"
    },
    {
      "cell_type": "markdown",
      "source": [
        "###**Generating Prediction** "
      ],
      "metadata": {
        "id": "A7i-ckJo-pof"
      },
      "id": "A7i-ckJo-pof"
    },
    {
      "cell_type": "markdown",
      "source": [
        "The following function predicts at token level meaning given the model and a token it will return the next token "
      ],
      "metadata": {
        "id": "i-NAJWzu-37l"
      },
      "id": "i-NAJWzu-37l"
    },
    {
      "cell_type": "code",
      "source": [
        "def predict(model, token, hidden=None, top_k=1):\n",
        "\n",
        "  encoded_text = model.token2int[token]                           # Encode the token                  \n",
        "  encoded_text = np.array([[encoded_text]])\n",
        "  encoded_text = one_hot_encode(encoded_text, len(model.tokens))  # one-hot-encode the token\n",
        "  encoded_text = torch.from_numpy(encoded_text)\n",
        "  encoded_text = encoded_text.to(device)\n",
        "\n",
        "  hidden = tuple([state.data for state in hidden])\n",
        "  out, hidden = model(encoded_text, hidden)                       # Run the model\n",
        "\n",
        "  probs = F.softmax(out, dim=1).data                              # Convert out to probabilities\n",
        "  probs = probs.cpu()\n",
        "\n",
        "  probs, index = probs.topk(top_k)                            # Returns the top ks\n",
        "  \n",
        "  index = index.numpy().squeeze()\n",
        "  probs = probs.numpy().squeeze()\n",
        "\n",
        "  token = np.random.choice(index, p=probs/probs.sum())   # Convert probabilities per index and chose token based on that\n",
        "  \n",
        "  return model.int2token[token], hidden"
      ],
      "metadata": {
        "id": "FbLGxaR5yrYg"
      },
      "id": "FbLGxaR5yrYg",
      "execution_count": null,
      "outputs": []
    },
    {
      "cell_type": "markdown",
      "source": [
        "The following function generates as many as tokens as asked using the above function. We only conside k most probable tokens to prevent recieving totally unrelated tokens while allowing to have some randomness.\n"
      ],
      "metadata": {
        "id": "NmR4btIq_yrW"
      },
      "id": "NmR4btIq_yrW"
    },
    {
      "cell_type": "code",
      "source": [
        "def generate_sample(model, size, prefix='', top_k=1):  # size: how many tokens we want to predict\n",
        "\n",
        "  model.to(device)          \n",
        "  model.eval() \n",
        "\n",
        "  tokenized_prefix = smi_tokenizer(prefix)          # Converting prefix to a tokenized version\n",
        "  output_tokens = [c for c in tokenized_prefix.split(\" \")]\n",
        "  \n",
        "  hidden = model.hidden_state(1)\n",
        "\n",
        "  # Predicting the next token for every token in the tokenized_prefix\n",
        "  for t in tokenized_prefix.split(\" \"):  \n",
        "    t, hidden = predict(model, t, hidden, top_k=top_k)\n",
        "  output_tokens.append(t)\n",
        "  \n",
        "  # Generating for the requested size\n",
        "  for i in range(size):\n",
        "      t, hidden = predict(model, output_tokens[-1], hidden, top_k=top_k)  # This time we generate based on the last thing we predicted\n",
        "      output_tokens.append(t)\n",
        "  \n",
        "  return ''.join(output_tokens)"
      ],
      "metadata": {
        "id": "V7IABkwt6jEX"
      },
      "id": "V7IABkwt6jEX",
      "execution_count": null,
      "outputs": []
    },
    {
      "cell_type": "markdown",
      "source": [
        "The following function generates valid samples based on the given prefix and reports up to 5 similar valid samples, a timer has been used for the cases that there are not enough valid samples to avoid infinit loop."
      ],
      "metadata": {
        "id": "uOKKBFzXI2Mo"
      },
      "id": "uOKKBFzXI2Mo"
    },
    {
      "cell_type": "code",
      "source": [
        "import time\n",
        "def result(prefix):\n",
        "  s = set()\n",
        "  timeout = 25\n",
        "  start=time.time() \n",
        "  while len(s)<6:\n",
        "    result = generate_sample(model, 2, prefix=prefix, top_k=10)\n",
        "    mol = Chem.MolFromSmiles(result)\n",
        "    if result not in s and mol:\n",
        "      print(f'SMI:  {result}')\n",
        "      s.add(result)\n",
        "\n",
        "    if time.time()>(timeout+start):\n",
        "      print('End of Search')\n",
        "      break"
      ],
      "metadata": {
        "id": "OHbxkGfayuFH"
      },
      "id": "OHbxkGfayuFH",
      "execution_count": null,
      "outputs": []
    },
    {
      "cell_type": "code",
      "source": [
        "prefix = input('Please enter your prefix: ')\n",
        "result(prefix)"
      ],
      "metadata": {
        "colab": {
          "base_uri": "https://localhost:8080/"
        },
        "id": "ENqwr-txywpY",
        "outputId": "eaa32254-0a39-449f-c557-9cb4061f5da8"
      },
      "id": "ENqwr-txywpY",
      "execution_count": null,
      "outputs": [
        {
          "output_type": "stream",
          "name": "stdout",
          "text": [
            "Please enter your prefix: CCc1ccc\n",
            "SMI:  CCc1ccccc1\n",
            "SMI:  CCc1cccnc1\n",
            "SMI:  CCc1ccccn1\n",
            "SMI:  CCc1cccnn1\n",
            "SMI:  CCc1cccc[n+]1\n",
            "SMI:  CCc1ccc[n+]c1\n"
          ]
        }
      ]
    },
    {
      "cell_type": "code",
      "source": [
        "Chem.MolFromSmiles('CCc1cccnc1')"
      ],
      "metadata": {
        "colab": {
          "base_uri": "https://localhost:8080/",
          "height": 167
        },
        "id": "IqNr6xiLzBCg",
        "outputId": "b1cac8a8-d958-4981-91cd-ab57e38929da"
      },
      "id": "IqNr6xiLzBCg",
      "execution_count": null,
      "outputs": [
        {
          "output_type": "execute_result",
          "data": {
            "text/plain": [
              "<rdkit.Chem.rdchem.Mol at 0x7fb8f5299190>"
            ],
            "image/png": "[encoded data removed]"
          },
          "metadata": {},
          "execution_count": 340
        }
      ]
    },
    {
      "cell_type": "code",
      "source": [
        "Chem.MolFromSmiles('CCc1ccccc1')"
      ],
      "metadata": {
        "colab": {
          "base_uri": "https://localhost:8080/",
          "height": 167
        },
        "id": "g-DA-iAvJzZ-",
        "outputId": "68ca8813-9f82-427e-e392-30682c489df2"
      },
      "id": "g-DA-iAvJzZ-",
      "execution_count": null,
      "outputs": [
        {
          "output_type": "execute_result",
          "data": {
            "text/plain": [
              "<rdkit.Chem.rdchem.Mol at 0x7fb8f5299040>"
            ],
            "image/png": "[encoded data removed]"
          },
          "metadata": {},
          "execution_count": 341
        }
      ]
    },
    {
      "cell_type": "code",
      "source": [
        "Chem.MolFromSmiles('CCc1ccccn1')"
      ],
      "metadata": {
        "colab": {
          "base_uri": "https://localhost:8080/",
          "height": 167
        },
        "id": "FjbbtKgiJ2PV",
        "outputId": "aac22762-3431-4e08-a4a8-abe9c757fd9c"
      },
      "id": "FjbbtKgiJ2PV",
      "execution_count": null,
      "outputs": [
        {
          "output_type": "execute_result",
          "data": {
            "text/plain": [
              "<rdkit.Chem.rdchem.Mol at 0x7fb8f52aa200>"
            ],
            "image/png": "[encoded data removed]"
          },
          "metadata": {},
          "execution_count": 342
        }
      ]
    },
    {
      "cell_type": "code",
      "source": [
        "Chem.MolFromSmiles('CCc1cccnn1')"
      ],
      "metadata": {
        "colab": {
          "base_uri": "https://localhost:8080/",
          "height": 167
        },
        "id": "6PEqO5qNJ4t1",
        "outputId": "4ebfcea2-68d0-433a-8a2e-c17030823564"
      },
      "id": "6PEqO5qNJ4t1",
      "execution_count": null,
      "outputs": [
        {
          "output_type": "execute_result",
          "data": {
            "text/plain": [
              "<rdkit.Chem.rdchem.Mol at 0x7fb8f5297f90>"
            ],
            "image/png": "[encoded data removed]"
          },
          "metadata": {},
          "execution_count": 343
        }
      ]
    },
    {
      "cell_type": "code",
      "source": [
        "Chem.MolFromSmiles('CCc1cccc[n+]1')"
      ],
      "metadata": {
        "colab": {
          "base_uri": "https://localhost:8080/",
          "height": 167
        },
        "id": "XErDgw4FJ5NN",
        "outputId": "1754cccc-d1e2-4aa0-fa42-7e28e7cd6ae9"
      },
      "id": "XErDgw4FJ5NN",
      "execution_count": null,
      "outputs": [
        {
          "output_type": "execute_result",
          "data": {
            "text/plain": [
              "<rdkit.Chem.rdchem.Mol at 0x7fb8f5297cf0>"
            ],
            "image/png": "[encoded data removed]"
          },
          "metadata": {},
          "execution_count": 348
        }
      ]
    },
    {
      "cell_type": "code",
      "source": [
        "Chem.MolFromSmiles('CCc1ccc[n+]c1')"
      ],
      "metadata": {
        "colab": {
          "base_uri": "https://localhost:8080/",
          "height": 167
        },
        "id": "ftSRJHrrJ5pV",
        "outputId": "b99576f8-01f9-4daa-b75d-30a4bed2d7b8"
      },
      "id": "ftSRJHrrJ5pV",
      "execution_count": null,
      "outputs": [
        {
          "output_type": "execute_result",
          "data": {
            "text/plain": [
              "<rdkit.Chem.rdchem.Mol at 0x7fb8f5297970>"
            ],
            "image/png": "[encoded data removed]"
          },
          "metadata": {},
          "execution_count": 349
        }
      ]
    },
    {
      "cell_type": "markdown",
      "source": [
        "  \n",
        "\n",
        "\n",
        "---\n",
        "\n"
      ],
      "metadata": {
        "id": "YOTYH4Pzv030"
      },
      "id": "YOTYH4Pzv030"
    },
    {
      "cell_type": "markdown",
      "source": [
        "##**Method 2:** Classic database query using Trie"
      ],
      "metadata": {
        "id": "fQeXzCeWvUvS"
      },
      "id": "fQeXzCeWvUvS"
    },
    {
      "cell_type": "markdown",
      "source": [
        "I was interested in exploring other methods on this dataset such as tri so used pygtrie"
      ],
      "metadata": {
        "id": "eFDfhTzmveCB"
      },
      "id": "eFDfhTzmveCB"
    },
    {
      "cell_type": "code",
      "source": [
        "pip install pygtrie"
      ],
      "metadata": {
        "colab": {
          "base_uri": "https://localhost:8080/"
        },
        "id": "QtqKtw2YvioB",
        "outputId": "eac2239a-e482-43a2-e581-afb436ebe171"
      },
      "id": "QtqKtw2YvioB",
      "execution_count": null,
      "outputs": [
        {
          "output_type": "stream",
          "name": "stdout",
          "text": [
            "Looking in indexes: https://pypi.org/simple, https://us-python.pkg.dev/colab-wheels/public/simple/\n",
            "Collecting pygtrie\n",
            "  Downloading pygtrie-2.5.0-py3-none-any.whl (25 kB)\n",
            "Installing collected packages: pygtrie\n",
            "Successfully installed pygtrie-2.5.0\n"
          ]
        }
      ]
    },
    {
      "cell_type": "code",
      "source": [
        "import pygtrie\n",
        "trie = pygtrie.CharTrie()\n",
        "for smile in zinc_df.SMILES:\n",
        "  trie[smile] = True\n",
        "trie['exit'] = False"
      ],
      "metadata": {
        "id": "v7Ubn1txvk6M"
      },
      "id": "v7Ubn1txvk6M",
      "execution_count": null,
      "outputs": []
    },
    {
      "cell_type": "code",
      "source": [
        "def find_topK(trie, text, k=5):\n",
        "  value = trie.get(text)\n",
        "  if value is not None:\n",
        "      print(repr(text), 'is a smile in database')\n",
        "  if trie.has_subtrie(text):\n",
        "      print(repr(text), 'is a prefix of a smile')\n",
        "  else:\n",
        "      print(repr(text), 'is not a prefix, going back to empty string')\n",
        "      return None\n",
        "  candidates = trie.keys(text)\n",
        "  # because with a few prefixes it is likely to predict smaller extensions\n",
        "  hits = sorted(candidates, key=len)[:k]\n",
        "  for hit in hits:\n",
        "    print(f\"\\t {hit}\")"
      ],
      "metadata": {
        "id": "_a_DWxPsvnVh"
      },
      "id": "_a_DWxPsvnVh",
      "execution_count": null,
      "outputs": []
    },
    {
      "cell_type": "code",
      "source": [
        "text = 'CCc1ccc'\n",
        "find_topK(trie, text, k=5)"
      ],
      "metadata": {
        "colab": {
          "base_uri": "https://localhost:8080/"
        },
        "id": "Sfe_7p0cvpoh",
        "outputId": "984a2171-42e4-4d2c-896d-83efe2a37273"
      },
      "id": "Sfe_7p0cvpoh",
      "execution_count": null,
      "outputs": [
        {
          "output_type": "stream",
          "name": "stdout",
          "text": [
            "'CCc1ccc' is a prefix of a smile\n",
            "\t CCc1ccc(Cl)oc1=O\n",
            "\t CCc1ccc(=O)oc1Cl\n",
            "\t CCc1ccccc1N1CCNCC1\n",
            "\t CCc1ccccc1OCC1=NCCN1\n",
            "\t CCc1cccc(C2=NCCN2)c1\n"
          ]
        }
      ]
    }
  ]
}